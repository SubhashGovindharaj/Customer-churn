{
  "cells": [
    {
      "cell_type": "markdown",
      "metadata": {
        "id": "view-in-github",
        "colab_type": "text"
      },
      "source": [
        "<a href=\"https://colab.research.google.com/github/SubhashGovindharaj/Customer-churn/blob/main/Customer_churn.ipynb\" target=\"_parent\"><img src=\"https://colab.research.google.com/assets/colab-badge.svg\" alt=\"Open In Colab\"/></a>"
      ]
    },
    {
      "cell_type": "code",
      "execution_count": null,
      "metadata": {
        "id": "qO_8uDMWvRr_"
      },
      "outputs": [],
      "source": []
    },
    {
      "cell_type": "code",
      "execution_count": null,
      "metadata": {
        "id": "y3GlxbZd_04Y"
      },
      "outputs": [],
      "source": [
        "import pandas as pd\n",
        "import numpy as np\n"
      ]
    },
    {
      "cell_type": "code",
      "execution_count": null,
      "metadata": {
        "id": "-ylgbqED_y2M"
      },
      "outputs": [],
      "source": [
        "df = pd.read_csv('/content/train_churn.csv')"
      ]
    },
    {
      "cell_type": "code",
      "execution_count": null,
      "metadata": {
        "colab": {
          "base_uri": "https://localhost:8080/",
          "height": 443
        },
        "id": "J3aBwHFHAdzn",
        "outputId": "738d3b50-b5dd-4f6b-e4e1-c5a1965c6f45"
      },
      "outputs": [
        {
          "data": {
            "application/vnd.google.colaboratory.intrinsic+json": {
              "type": "dataframe",
              "variable_name": "df"
            },
            "text/html": [
              "\n",
              "  <div id=\"df-b6f3a1b2-20f6-4f68-a89f-e545b8ff94ca\" class=\"colab-df-container\">\n",
              "    <div>\n",
              "<style scoped>\n",
              "    .dataframe tbody tr th:only-of-type {\n",
              "        vertical-align: middle;\n",
              "    }\n",
              "\n",
              "    .dataframe tbody tr th {\n",
              "        vertical-align: top;\n",
              "    }\n",
              "\n",
              "    .dataframe thead th {\n",
              "        text-align: right;\n",
              "    }\n",
              "</style>\n",
              "<table border=\"1\" class=\"dataframe\">\n",
              "  <thead>\n",
              "    <tr style=\"text-align: right;\">\n",
              "      <th></th>\n",
              "      <th>AccountAge</th>\n",
              "      <th>MonthlyCharges</th>\n",
              "      <th>TotalCharges</th>\n",
              "      <th>SubscriptionType</th>\n",
              "      <th>PaymentMethod</th>\n",
              "      <th>PaperlessBilling</th>\n",
              "      <th>ContentType</th>\n",
              "      <th>MultiDeviceAccess</th>\n",
              "      <th>DeviceRegistered</th>\n",
              "      <th>ViewingHoursPerWeek</th>\n",
              "      <th>...</th>\n",
              "      <th>ContentDownloadsPerMonth</th>\n",
              "      <th>GenrePreference</th>\n",
              "      <th>UserRating</th>\n",
              "      <th>SupportTicketsPerMonth</th>\n",
              "      <th>Gender</th>\n",
              "      <th>WatchlistSize</th>\n",
              "      <th>ParentalControl</th>\n",
              "      <th>SubtitlesEnabled</th>\n",
              "      <th>CustomerID</th>\n",
              "      <th>Churn</th>\n",
              "    </tr>\n",
              "  </thead>\n",
              "  <tbody>\n",
              "    <tr>\n",
              "      <th>0</th>\n",
              "      <td>20</td>\n",
              "      <td>11.055215</td>\n",
              "      <td>221.104302</td>\n",
              "      <td>Premium</td>\n",
              "      <td>Mailed check</td>\n",
              "      <td>No</td>\n",
              "      <td>Both</td>\n",
              "      <td>No</td>\n",
              "      <td>Mobile</td>\n",
              "      <td>36.758104</td>\n",
              "      <td>...</td>\n",
              "      <td>10</td>\n",
              "      <td>Sci-Fi</td>\n",
              "      <td>2.176498</td>\n",
              "      <td>4</td>\n",
              "      <td>Male</td>\n",
              "      <td>3</td>\n",
              "      <td>No</td>\n",
              "      <td>No</td>\n",
              "      <td>CB6SXPNVZA</td>\n",
              "      <td>0</td>\n",
              "    </tr>\n",
              "    <tr>\n",
              "      <th>1</th>\n",
              "      <td>57</td>\n",
              "      <td>5.175208</td>\n",
              "      <td>294.986882</td>\n",
              "      <td>Basic</td>\n",
              "      <td>Credit card</td>\n",
              "      <td>Yes</td>\n",
              "      <td>Movies</td>\n",
              "      <td>No</td>\n",
              "      <td>Tablet</td>\n",
              "      <td>32.450568</td>\n",
              "      <td>...</td>\n",
              "      <td>18</td>\n",
              "      <td>Action</td>\n",
              "      <td>3.478632</td>\n",
              "      <td>8</td>\n",
              "      <td>Male</td>\n",
              "      <td>23</td>\n",
              "      <td>No</td>\n",
              "      <td>Yes</td>\n",
              "      <td>S7R2G87O09</td>\n",
              "      <td>0</td>\n",
              "    </tr>\n",
              "    <tr>\n",
              "      <th>2</th>\n",
              "      <td>73</td>\n",
              "      <td>12.106657</td>\n",
              "      <td>883.785952</td>\n",
              "      <td>Basic</td>\n",
              "      <td>Mailed check</td>\n",
              "      <td>Yes</td>\n",
              "      <td>Movies</td>\n",
              "      <td>No</td>\n",
              "      <td>Computer</td>\n",
              "      <td>7.395160</td>\n",
              "      <td>...</td>\n",
              "      <td>23</td>\n",
              "      <td>Fantasy</td>\n",
              "      <td>4.238824</td>\n",
              "      <td>6</td>\n",
              "      <td>Male</td>\n",
              "      <td>1</td>\n",
              "      <td>Yes</td>\n",
              "      <td>Yes</td>\n",
              "      <td>EASDC20BDT</td>\n",
              "      <td>0</td>\n",
              "    </tr>\n",
              "    <tr>\n",
              "      <th>3</th>\n",
              "      <td>32</td>\n",
              "      <td>7.263743</td>\n",
              "      <td>232.439774</td>\n",
              "      <td>Basic</td>\n",
              "      <td>Electronic check</td>\n",
              "      <td>No</td>\n",
              "      <td>TV Shows</td>\n",
              "      <td>No</td>\n",
              "      <td>Tablet</td>\n",
              "      <td>27.960389</td>\n",
              "      <td>...</td>\n",
              "      <td>30</td>\n",
              "      <td>Drama</td>\n",
              "      <td>4.276013</td>\n",
              "      <td>2</td>\n",
              "      <td>Male</td>\n",
              "      <td>24</td>\n",
              "      <td>Yes</td>\n",
              "      <td>Yes</td>\n",
              "      <td>NPF69NT69N</td>\n",
              "      <td>0</td>\n",
              "    </tr>\n",
              "    <tr>\n",
              "      <th>4</th>\n",
              "      <td>57</td>\n",
              "      <td>16.953078</td>\n",
              "      <td>966.325422</td>\n",
              "      <td>Premium</td>\n",
              "      <td>Electronic check</td>\n",
              "      <td>Yes</td>\n",
              "      <td>TV Shows</td>\n",
              "      <td>No</td>\n",
              "      <td>TV</td>\n",
              "      <td>20.083397</td>\n",
              "      <td>...</td>\n",
              "      <td>20</td>\n",
              "      <td>Comedy</td>\n",
              "      <td>3.616170</td>\n",
              "      <td>4</td>\n",
              "      <td>Female</td>\n",
              "      <td>0</td>\n",
              "      <td>No</td>\n",
              "      <td>No</td>\n",
              "      <td>4LGYPK7VOL</td>\n",
              "      <td>0</td>\n",
              "    </tr>\n",
              "    <tr>\n",
              "      <th>...</th>\n",
              "      <td>...</td>\n",
              "      <td>...</td>\n",
              "      <td>...</td>\n",
              "      <td>...</td>\n",
              "      <td>...</td>\n",
              "      <td>...</td>\n",
              "      <td>...</td>\n",
              "      <td>...</td>\n",
              "      <td>...</td>\n",
              "      <td>...</td>\n",
              "      <td>...</td>\n",
              "      <td>...</td>\n",
              "      <td>...</td>\n",
              "      <td>...</td>\n",
              "      <td>...</td>\n",
              "      <td>...</td>\n",
              "      <td>...</td>\n",
              "      <td>...</td>\n",
              "      <td>...</td>\n",
              "      <td>...</td>\n",
              "      <td>...</td>\n",
              "    </tr>\n",
              "    <tr>\n",
              "      <th>243782</th>\n",
              "      <td>77</td>\n",
              "      <td>9.639902</td>\n",
              "      <td>742.272460</td>\n",
              "      <td>Basic</td>\n",
              "      <td>Mailed check</td>\n",
              "      <td>No</td>\n",
              "      <td>Movies</td>\n",
              "      <td>No</td>\n",
              "      <td>Computer</td>\n",
              "      <td>13.502729</td>\n",
              "      <td>...</td>\n",
              "      <td>47</td>\n",
              "      <td>Sci-Fi</td>\n",
              "      <td>3.697451</td>\n",
              "      <td>1</td>\n",
              "      <td>Male</td>\n",
              "      <td>8</td>\n",
              "      <td>Yes</td>\n",
              "      <td>No</td>\n",
              "      <td>FBZ38J108Z</td>\n",
              "      <td>0</td>\n",
              "    </tr>\n",
              "    <tr>\n",
              "      <th>243783</th>\n",
              "      <td>117</td>\n",
              "      <td>13.049257</td>\n",
              "      <td>1526.763053</td>\n",
              "      <td>Premium</td>\n",
              "      <td>Credit card</td>\n",
              "      <td>No</td>\n",
              "      <td>TV Shows</td>\n",
              "      <td>Yes</td>\n",
              "      <td>TV</td>\n",
              "      <td>24.963291</td>\n",
              "      <td>...</td>\n",
              "      <td>35</td>\n",
              "      <td>Comedy</td>\n",
              "      <td>1.449742</td>\n",
              "      <td>4</td>\n",
              "      <td>Male</td>\n",
              "      <td>20</td>\n",
              "      <td>No</td>\n",
              "      <td>No</td>\n",
              "      <td>W4AO1Y6NAI</td>\n",
              "      <td>0</td>\n",
              "    </tr>\n",
              "    <tr>\n",
              "      <th>243784</th>\n",
              "      <td>113</td>\n",
              "      <td>14.514569</td>\n",
              "      <td>1640.146267</td>\n",
              "      <td>Premium</td>\n",
              "      <td>Credit card</td>\n",
              "      <td>Yes</td>\n",
              "      <td>TV Shows</td>\n",
              "      <td>No</td>\n",
              "      <td>TV</td>\n",
              "      <td>10.628728</td>\n",
              "      <td>...</td>\n",
              "      <td>44</td>\n",
              "      <td>Action</td>\n",
              "      <td>4.012217</td>\n",
              "      <td>6</td>\n",
              "      <td>Male</td>\n",
              "      <td>13</td>\n",
              "      <td>Yes</td>\n",
              "      <td>Yes</td>\n",
              "      <td>0H3SWWI7IU</td>\n",
              "      <td>0</td>\n",
              "    </tr>\n",
              "    <tr>\n",
              "      <th>243785</th>\n",
              "      <td>7</td>\n",
              "      <td>18.140555</td>\n",
              "      <td>126.983887</td>\n",
              "      <td>Premium</td>\n",
              "      <td>Bank transfer</td>\n",
              "      <td>Yes</td>\n",
              "      <td>TV Shows</td>\n",
              "      <td>No</td>\n",
              "      <td>TV</td>\n",
              "      <td>30.466782</td>\n",
              "      <td>...</td>\n",
              "      <td>36</td>\n",
              "      <td>Fantasy</td>\n",
              "      <td>2.135789</td>\n",
              "      <td>7</td>\n",
              "      <td>Female</td>\n",
              "      <td>5</td>\n",
              "      <td>No</td>\n",
              "      <td>Yes</td>\n",
              "      <td>63SJ44RT4A</td>\n",
              "      <td>0</td>\n",
              "    </tr>\n",
              "    <tr>\n",
              "      <th>243786</th>\n",
              "      <td>90</td>\n",
              "      <td>11.593774</td>\n",
              "      <td>1043.439704</td>\n",
              "      <td>Premium</td>\n",
              "      <td>Mailed check</td>\n",
              "      <td>No</td>\n",
              "      <td>Both</td>\n",
              "      <td>No</td>\n",
              "      <td>TV</td>\n",
              "      <td>24.972537</td>\n",
              "      <td>...</td>\n",
              "      <td>11</td>\n",
              "      <td>Action</td>\n",
              "      <td>1.428896</td>\n",
              "      <td>3</td>\n",
              "      <td>Female</td>\n",
              "      <td>1</td>\n",
              "      <td>Yes</td>\n",
              "      <td>No</td>\n",
              "      <td>A6IN701VRY</td>\n",
              "      <td>0</td>\n",
              "    </tr>\n",
              "  </tbody>\n",
              "</table>\n",
              "<p>243787 rows × 21 columns</p>\n",
              "</div>\n",
              "    <div class=\"colab-df-buttons\">\n",
              "\n",
              "  <div class=\"colab-df-container\">\n",
              "    <button class=\"colab-df-convert\" onclick=\"convertToInteractive('df-b6f3a1b2-20f6-4f68-a89f-e545b8ff94ca')\"\n",
              "            title=\"Convert this dataframe to an interactive table.\"\n",
              "            style=\"display:none;\">\n",
              "\n",
              "  <svg xmlns=\"http://www.w3.org/2000/svg\" height=\"24px\" viewBox=\"0 -960 960 960\">\n",
              "    <path d=\"M120-120v-720h720v720H120Zm60-500h600v-160H180v160Zm220 220h160v-160H400v160Zm0 220h160v-160H400v160ZM180-400h160v-160H180v160Zm440 0h160v-160H620v160ZM180-180h160v-160H180v160Zm440 0h160v-160H620v160Z\"/>\n",
              "  </svg>\n",
              "    </button>\n",
              "\n",
              "  <style>\n",
              "    .colab-df-container {\n",
              "      display:flex;\n",
              "      gap: 12px;\n",
              "    }\n",
              "\n",
              "    .colab-df-convert {\n",
              "      background-color: #E8F0FE;\n",
              "      border: none;\n",
              "      border-radius: 50%;\n",
              "      cursor: pointer;\n",
              "      display: none;\n",
              "      fill: #1967D2;\n",
              "      height: 32px;\n",
              "      padding: 0 0 0 0;\n",
              "      width: 32px;\n",
              "    }\n",
              "\n",
              "    .colab-df-convert:hover {\n",
              "      background-color: #E2EBFA;\n",
              "      box-shadow: 0px 1px 2px rgba(60, 64, 67, 0.3), 0px 1px 3px 1px rgba(60, 64, 67, 0.15);\n",
              "      fill: #174EA6;\n",
              "    }\n",
              "\n",
              "    .colab-df-buttons div {\n",
              "      margin-bottom: 4px;\n",
              "    }\n",
              "\n",
              "    [theme=dark] .colab-df-convert {\n",
              "      background-color: #3B4455;\n",
              "      fill: #D2E3FC;\n",
              "    }\n",
              "\n",
              "    [theme=dark] .colab-df-convert:hover {\n",
              "      background-color: #434B5C;\n",
              "      box-shadow: 0px 1px 3px 1px rgba(0, 0, 0, 0.15);\n",
              "      filter: drop-shadow(0px 1px 2px rgba(0, 0, 0, 0.3));\n",
              "      fill: #FFFFFF;\n",
              "    }\n",
              "  </style>\n",
              "\n",
              "    <script>\n",
              "      const buttonEl =\n",
              "        document.querySelector('#df-b6f3a1b2-20f6-4f68-a89f-e545b8ff94ca button.colab-df-convert');\n",
              "      buttonEl.style.display =\n",
              "        google.colab.kernel.accessAllowed ? 'block' : 'none';\n",
              "\n",
              "      async function convertToInteractive(key) {\n",
              "        const element = document.querySelector('#df-b6f3a1b2-20f6-4f68-a89f-e545b8ff94ca');\n",
              "        const dataTable =\n",
              "          await google.colab.kernel.invokeFunction('convertToInteractive',\n",
              "                                                    [key], {});\n",
              "        if (!dataTable) return;\n",
              "\n",
              "        const docLinkHtml = 'Like what you see? Visit the ' +\n",
              "          '<a target=\"_blank\" href=https://colab.research.google.com/notebooks/data_table.ipynb>data table notebook</a>'\n",
              "          + ' to learn more about interactive tables.';\n",
              "        element.innerHTML = '';\n",
              "        dataTable['output_type'] = 'display_data';\n",
              "        await google.colab.output.renderOutput(dataTable, element);\n",
              "        const docLink = document.createElement('div');\n",
              "        docLink.innerHTML = docLinkHtml;\n",
              "        element.appendChild(docLink);\n",
              "      }\n",
              "    </script>\n",
              "  </div>\n",
              "\n",
              "\n",
              "<div id=\"df-e1371ddf-e74a-45d3-8860-b779ed28558c\">\n",
              "  <button class=\"colab-df-quickchart\" onclick=\"quickchart('df-e1371ddf-e74a-45d3-8860-b779ed28558c')\"\n",
              "            title=\"Suggest charts\"\n",
              "            style=\"display:none;\">\n",
              "\n",
              "<svg xmlns=\"http://www.w3.org/2000/svg\" height=\"24px\"viewBox=\"0 0 24 24\"\n",
              "     width=\"24px\">\n",
              "    <g>\n",
              "        <path d=\"M19 3H5c-1.1 0-2 .9-2 2v14c0 1.1.9 2 2 2h14c1.1 0 2-.9 2-2V5c0-1.1-.9-2-2-2zM9 17H7v-7h2v7zm4 0h-2V7h2v10zm4 0h-2v-4h2v4z\"/>\n",
              "    </g>\n",
              "</svg>\n",
              "  </button>\n",
              "\n",
              "<style>\n",
              "  .colab-df-quickchart {\n",
              "      --bg-color: #E8F0FE;\n",
              "      --fill-color: #1967D2;\n",
              "      --hover-bg-color: #E2EBFA;\n",
              "      --hover-fill-color: #174EA6;\n",
              "      --disabled-fill-color: #AAA;\n",
              "      --disabled-bg-color: #DDD;\n",
              "  }\n",
              "\n",
              "  [theme=dark] .colab-df-quickchart {\n",
              "      --bg-color: #3B4455;\n",
              "      --fill-color: #D2E3FC;\n",
              "      --hover-bg-color: #434B5C;\n",
              "      --hover-fill-color: #FFFFFF;\n",
              "      --disabled-bg-color: #3B4455;\n",
              "      --disabled-fill-color: #666;\n",
              "  }\n",
              "\n",
              "  .colab-df-quickchart {\n",
              "    background-color: var(--bg-color);\n",
              "    border: none;\n",
              "    border-radius: 50%;\n",
              "    cursor: pointer;\n",
              "    display: none;\n",
              "    fill: var(--fill-color);\n",
              "    height: 32px;\n",
              "    padding: 0;\n",
              "    width: 32px;\n",
              "  }\n",
              "\n",
              "  .colab-df-quickchart:hover {\n",
              "    background-color: var(--hover-bg-color);\n",
              "    box-shadow: 0 1px 2px rgba(60, 64, 67, 0.3), 0 1px 3px 1px rgba(60, 64, 67, 0.15);\n",
              "    fill: var(--button-hover-fill-color);\n",
              "  }\n",
              "\n",
              "  .colab-df-quickchart-complete:disabled,\n",
              "  .colab-df-quickchart-complete:disabled:hover {\n",
              "    background-color: var(--disabled-bg-color);\n",
              "    fill: var(--disabled-fill-color);\n",
              "    box-shadow: none;\n",
              "  }\n",
              "\n",
              "  .colab-df-spinner {\n",
              "    border: 2px solid var(--fill-color);\n",
              "    border-color: transparent;\n",
              "    border-bottom-color: var(--fill-color);\n",
              "    animation:\n",
              "      spin 1s steps(1) infinite;\n",
              "  }\n",
              "\n",
              "  @keyframes spin {\n",
              "    0% {\n",
              "      border-color: transparent;\n",
              "      border-bottom-color: var(--fill-color);\n",
              "      border-left-color: var(--fill-color);\n",
              "    }\n",
              "    20% {\n",
              "      border-color: transparent;\n",
              "      border-left-color: var(--fill-color);\n",
              "      border-top-color: var(--fill-color);\n",
              "    }\n",
              "    30% {\n",
              "      border-color: transparent;\n",
              "      border-left-color: var(--fill-color);\n",
              "      border-top-color: var(--fill-color);\n",
              "      border-right-color: var(--fill-color);\n",
              "    }\n",
              "    40% {\n",
              "      border-color: transparent;\n",
              "      border-right-color: var(--fill-color);\n",
              "      border-top-color: var(--fill-color);\n",
              "    }\n",
              "    60% {\n",
              "      border-color: transparent;\n",
              "      border-right-color: var(--fill-color);\n",
              "    }\n",
              "    80% {\n",
              "      border-color: transparent;\n",
              "      border-right-color: var(--fill-color);\n",
              "      border-bottom-color: var(--fill-color);\n",
              "    }\n",
              "    90% {\n",
              "      border-color: transparent;\n",
              "      border-bottom-color: var(--fill-color);\n",
              "    }\n",
              "  }\n",
              "</style>\n",
              "\n",
              "  <script>\n",
              "    async function quickchart(key) {\n",
              "      const quickchartButtonEl =\n",
              "        document.querySelector('#' + key + ' button');\n",
              "      quickchartButtonEl.disabled = true;  // To prevent multiple clicks.\n",
              "      quickchartButtonEl.classList.add('colab-df-spinner');\n",
              "      try {\n",
              "        const charts = await google.colab.kernel.invokeFunction(\n",
              "            'suggestCharts', [key], {});\n",
              "      } catch (error) {\n",
              "        console.error('Error during call to suggestCharts:', error);\n",
              "      }\n",
              "      quickchartButtonEl.classList.remove('colab-df-spinner');\n",
              "      quickchartButtonEl.classList.add('colab-df-quickchart-complete');\n",
              "    }\n",
              "    (() => {\n",
              "      let quickchartButtonEl =\n",
              "        document.querySelector('#df-e1371ddf-e74a-45d3-8860-b779ed28558c button');\n",
              "      quickchartButtonEl.style.display =\n",
              "        google.colab.kernel.accessAllowed ? 'block' : 'none';\n",
              "    })();\n",
              "  </script>\n",
              "</div>\n",
              "\n",
              "  <div id=\"id_522da35f-eb2c-40b2-a95e-1a0a24dd4877\">\n",
              "    <style>\n",
              "      .colab-df-generate {\n",
              "        background-color: #E8F0FE;\n",
              "        border: none;\n",
              "        border-radius: 50%;\n",
              "        cursor: pointer;\n",
              "        display: none;\n",
              "        fill: #1967D2;\n",
              "        height: 32px;\n",
              "        padding: 0 0 0 0;\n",
              "        width: 32px;\n",
              "      }\n",
              "\n",
              "      .colab-df-generate:hover {\n",
              "        background-color: #E2EBFA;\n",
              "        box-shadow: 0px 1px 2px rgba(60, 64, 67, 0.3), 0px 1px 3px 1px rgba(60, 64, 67, 0.15);\n",
              "        fill: #174EA6;\n",
              "      }\n",
              "\n",
              "      [theme=dark] .colab-df-generate {\n",
              "        background-color: #3B4455;\n",
              "        fill: #D2E3FC;\n",
              "      }\n",
              "\n",
              "      [theme=dark] .colab-df-generate:hover {\n",
              "        background-color: #434B5C;\n",
              "        box-shadow: 0px 1px 3px 1px rgba(0, 0, 0, 0.15);\n",
              "        filter: drop-shadow(0px 1px 2px rgba(0, 0, 0, 0.3));\n",
              "        fill: #FFFFFF;\n",
              "      }\n",
              "    </style>\n",
              "    <button class=\"colab-df-generate\" onclick=\"generateWithVariable('df')\"\n",
              "            title=\"Generate code using this dataframe.\"\n",
              "            style=\"display:none;\">\n",
              "\n",
              "  <svg xmlns=\"http://www.w3.org/2000/svg\" height=\"24px\"viewBox=\"0 0 24 24\"\n",
              "       width=\"24px\">\n",
              "    <path d=\"M7,19H8.4L18.45,9,17,7.55,7,17.6ZM5,21V16.75L18.45,3.32a2,2,0,0,1,2.83,0l1.4,1.43a1.91,1.91,0,0,1,.58,1.4,1.91,1.91,0,0,1-.58,1.4L9.25,21ZM18.45,9,17,7.55Zm-12,3A5.31,5.31,0,0,0,4.9,8.1,5.31,5.31,0,0,0,1,6.5,5.31,5.31,0,0,0,4.9,4.9,5.31,5.31,0,0,0,6.5,1,5.31,5.31,0,0,0,8.1,4.9,5.31,5.31,0,0,0,12,6.5,5.46,5.46,0,0,0,6.5,12Z\"/>\n",
              "  </svg>\n",
              "    </button>\n",
              "    <script>\n",
              "      (() => {\n",
              "      const buttonEl =\n",
              "        document.querySelector('#id_522da35f-eb2c-40b2-a95e-1a0a24dd4877 button.colab-df-generate');\n",
              "      buttonEl.style.display =\n",
              "        google.colab.kernel.accessAllowed ? 'block' : 'none';\n",
              "\n",
              "      buttonEl.onclick = () => {\n",
              "        google.colab.notebook.generateWithVariable('df');\n",
              "      }\n",
              "      })();\n",
              "    </script>\n",
              "  </div>\n",
              "\n",
              "    </div>\n",
              "  </div>\n"
            ],
            "text/plain": [
              "        AccountAge  MonthlyCharges  TotalCharges SubscriptionType  \\\n",
              "0               20       11.055215    221.104302          Premium   \n",
              "1               57        5.175208    294.986882            Basic   \n",
              "2               73       12.106657    883.785952            Basic   \n",
              "3               32        7.263743    232.439774            Basic   \n",
              "4               57       16.953078    966.325422          Premium   \n",
              "...            ...             ...           ...              ...   \n",
              "243782          77        9.639902    742.272460            Basic   \n",
              "243783         117       13.049257   1526.763053          Premium   \n",
              "243784         113       14.514569   1640.146267          Premium   \n",
              "243785           7       18.140555    126.983887          Premium   \n",
              "243786          90       11.593774   1043.439704          Premium   \n",
              "\n",
              "           PaymentMethod PaperlessBilling ContentType MultiDeviceAccess  \\\n",
              "0           Mailed check               No        Both                No   \n",
              "1            Credit card              Yes      Movies                No   \n",
              "2           Mailed check              Yes      Movies                No   \n",
              "3       Electronic check               No    TV Shows                No   \n",
              "4       Electronic check              Yes    TV Shows                No   \n",
              "...                  ...              ...         ...               ...   \n",
              "243782      Mailed check               No      Movies                No   \n",
              "243783       Credit card               No    TV Shows               Yes   \n",
              "243784       Credit card              Yes    TV Shows                No   \n",
              "243785     Bank transfer              Yes    TV Shows                No   \n",
              "243786      Mailed check               No        Both                No   \n",
              "\n",
              "       DeviceRegistered  ViewingHoursPerWeek  ...  ContentDownloadsPerMonth  \\\n",
              "0                Mobile            36.758104  ...                        10   \n",
              "1                Tablet            32.450568  ...                        18   \n",
              "2              Computer             7.395160  ...                        23   \n",
              "3                Tablet            27.960389  ...                        30   \n",
              "4                    TV            20.083397  ...                        20   \n",
              "...                 ...                  ...  ...                       ...   \n",
              "243782         Computer            13.502729  ...                        47   \n",
              "243783               TV            24.963291  ...                        35   \n",
              "243784               TV            10.628728  ...                        44   \n",
              "243785               TV            30.466782  ...                        36   \n",
              "243786               TV            24.972537  ...                        11   \n",
              "\n",
              "        GenrePreference UserRating  SupportTicketsPerMonth  Gender  \\\n",
              "0                Sci-Fi   2.176498                       4    Male   \n",
              "1                Action   3.478632                       8    Male   \n",
              "2               Fantasy   4.238824                       6    Male   \n",
              "3                 Drama   4.276013                       2    Male   \n",
              "4                Comedy   3.616170                       4  Female   \n",
              "...                 ...        ...                     ...     ...   \n",
              "243782           Sci-Fi   3.697451                       1    Male   \n",
              "243783           Comedy   1.449742                       4    Male   \n",
              "243784           Action   4.012217                       6    Male   \n",
              "243785          Fantasy   2.135789                       7  Female   \n",
              "243786           Action   1.428896                       3  Female   \n",
              "\n",
              "       WatchlistSize  ParentalControl SubtitlesEnabled  CustomerID Churn  \n",
              "0                  3               No               No  CB6SXPNVZA     0  \n",
              "1                 23               No              Yes  S7R2G87O09     0  \n",
              "2                  1              Yes              Yes  EASDC20BDT     0  \n",
              "3                 24              Yes              Yes  NPF69NT69N     0  \n",
              "4                  0               No               No  4LGYPK7VOL     0  \n",
              "...              ...              ...              ...         ...   ...  \n",
              "243782             8              Yes               No  FBZ38J108Z     0  \n",
              "243783            20               No               No  W4AO1Y6NAI     0  \n",
              "243784            13              Yes              Yes  0H3SWWI7IU     0  \n",
              "243785             5               No              Yes  63SJ44RT4A     0  \n",
              "243786             1              Yes               No  A6IN701VRY     0  \n",
              "\n",
              "[243787 rows x 21 columns]"
            ]
          },
          "execution_count": 38,
          "metadata": {},
          "output_type": "execute_result"
        }
      ],
      "source": [
        "df"
      ]
    },
    {
      "cell_type": "code",
      "execution_count": null,
      "metadata": {
        "colab": {
          "base_uri": "https://localhost:8080/"
        },
        "id": "eVR5E5Ov_zgj",
        "outputId": "74c5257c-3f4e-4354-9774-9388039fe37a"
      },
      "outputs": [
        {
          "data": {
            "text/plain": [
              "(243787, 21)"
            ]
          },
          "execution_count": 39,
          "metadata": {},
          "output_type": "execute_result"
        }
      ],
      "source": [
        "df.shape"
      ]
    },
    {
      "cell_type": "code",
      "execution_count": null,
      "metadata": {
        "colab": {
          "base_uri": "https://localhost:8080/"
        },
        "id": "zVX5v7oc_zdm",
        "outputId": "9527e0fb-b8bd-47d4-a1c3-69a32daeed9f"
      },
      "outputs": [
        {
          "data": {
            "text/plain": [
              "Index(['AccountAge', 'MonthlyCharges', 'TotalCharges', 'SubscriptionType',\n",
              "       'PaymentMethod', 'PaperlessBilling', 'ContentType', 'MultiDeviceAccess',\n",
              "       'DeviceRegistered', 'ViewingHoursPerWeek', 'AverageViewingDuration',\n",
              "       'ContentDownloadsPerMonth', 'GenrePreference', 'UserRating',\n",
              "       'SupportTicketsPerMonth', 'Gender', 'WatchlistSize', 'ParentalControl',\n",
              "       'SubtitlesEnabled', 'CustomerID', 'Churn'],\n",
              "      dtype='object')"
            ]
          },
          "execution_count": 40,
          "metadata": {},
          "output_type": "execute_result"
        }
      ],
      "source": [
        "df.columns"
      ]
    },
    {
      "cell_type": "code",
      "execution_count": null,
      "metadata": {
        "colab": {
          "base_uri": "https://localhost:8080/",
          "height": 255
        },
        "id": "XA6gn_E5_zbK",
        "outputId": "9a1a7b65-0952-4d3b-d9db-dacb5c76f888"
      },
      "outputs": [
        {
          "data": {
            "application/vnd.google.colaboratory.intrinsic+json": {
              "type": "dataframe",
              "variable_name": "df"
            },
            "text/html": [
              "\n",
              "  <div id=\"df-f1920e64-682f-4dfc-9fad-6280674ccabb\" class=\"colab-df-container\">\n",
              "    <div>\n",
              "<style scoped>\n",
              "    .dataframe tbody tr th:only-of-type {\n",
              "        vertical-align: middle;\n",
              "    }\n",
              "\n",
              "    .dataframe tbody tr th {\n",
              "        vertical-align: top;\n",
              "    }\n",
              "\n",
              "    .dataframe thead th {\n",
              "        text-align: right;\n",
              "    }\n",
              "</style>\n",
              "<table border=\"1\" class=\"dataframe\">\n",
              "  <thead>\n",
              "    <tr style=\"text-align: right;\">\n",
              "      <th></th>\n",
              "      <th>AccountAge</th>\n",
              "      <th>MonthlyCharges</th>\n",
              "      <th>TotalCharges</th>\n",
              "      <th>SubscriptionType</th>\n",
              "      <th>PaymentMethod</th>\n",
              "      <th>PaperlessBilling</th>\n",
              "      <th>ContentType</th>\n",
              "      <th>MultiDeviceAccess</th>\n",
              "      <th>DeviceRegistered</th>\n",
              "      <th>ViewingHoursPerWeek</th>\n",
              "      <th>...</th>\n",
              "      <th>ContentDownloadsPerMonth</th>\n",
              "      <th>GenrePreference</th>\n",
              "      <th>UserRating</th>\n",
              "      <th>SupportTicketsPerMonth</th>\n",
              "      <th>Gender</th>\n",
              "      <th>WatchlistSize</th>\n",
              "      <th>ParentalControl</th>\n",
              "      <th>SubtitlesEnabled</th>\n",
              "      <th>CustomerID</th>\n",
              "      <th>Churn</th>\n",
              "    </tr>\n",
              "  </thead>\n",
              "  <tbody>\n",
              "    <tr>\n",
              "      <th>0</th>\n",
              "      <td>20</td>\n",
              "      <td>11.055215</td>\n",
              "      <td>221.104302</td>\n",
              "      <td>Premium</td>\n",
              "      <td>Mailed check</td>\n",
              "      <td>No</td>\n",
              "      <td>Both</td>\n",
              "      <td>No</td>\n",
              "      <td>Mobile</td>\n",
              "      <td>36.758104</td>\n",
              "      <td>...</td>\n",
              "      <td>10</td>\n",
              "      <td>Sci-Fi</td>\n",
              "      <td>2.176498</td>\n",
              "      <td>4</td>\n",
              "      <td>Male</td>\n",
              "      <td>3</td>\n",
              "      <td>No</td>\n",
              "      <td>No</td>\n",
              "      <td>CB6SXPNVZA</td>\n",
              "      <td>0</td>\n",
              "    </tr>\n",
              "    <tr>\n",
              "      <th>1</th>\n",
              "      <td>57</td>\n",
              "      <td>5.175208</td>\n",
              "      <td>294.986882</td>\n",
              "      <td>Basic</td>\n",
              "      <td>Credit card</td>\n",
              "      <td>Yes</td>\n",
              "      <td>Movies</td>\n",
              "      <td>No</td>\n",
              "      <td>Tablet</td>\n",
              "      <td>32.450568</td>\n",
              "      <td>...</td>\n",
              "      <td>18</td>\n",
              "      <td>Action</td>\n",
              "      <td>3.478632</td>\n",
              "      <td>8</td>\n",
              "      <td>Male</td>\n",
              "      <td>23</td>\n",
              "      <td>No</td>\n",
              "      <td>Yes</td>\n",
              "      <td>S7R2G87O09</td>\n",
              "      <td>0</td>\n",
              "    </tr>\n",
              "    <tr>\n",
              "      <th>2</th>\n",
              "      <td>73</td>\n",
              "      <td>12.106657</td>\n",
              "      <td>883.785952</td>\n",
              "      <td>Basic</td>\n",
              "      <td>Mailed check</td>\n",
              "      <td>Yes</td>\n",
              "      <td>Movies</td>\n",
              "      <td>No</td>\n",
              "      <td>Computer</td>\n",
              "      <td>7.395160</td>\n",
              "      <td>...</td>\n",
              "      <td>23</td>\n",
              "      <td>Fantasy</td>\n",
              "      <td>4.238824</td>\n",
              "      <td>6</td>\n",
              "      <td>Male</td>\n",
              "      <td>1</td>\n",
              "      <td>Yes</td>\n",
              "      <td>Yes</td>\n",
              "      <td>EASDC20BDT</td>\n",
              "      <td>0</td>\n",
              "    </tr>\n",
              "    <tr>\n",
              "      <th>3</th>\n",
              "      <td>32</td>\n",
              "      <td>7.263743</td>\n",
              "      <td>232.439774</td>\n",
              "      <td>Basic</td>\n",
              "      <td>Electronic check</td>\n",
              "      <td>No</td>\n",
              "      <td>TV Shows</td>\n",
              "      <td>No</td>\n",
              "      <td>Tablet</td>\n",
              "      <td>27.960389</td>\n",
              "      <td>...</td>\n",
              "      <td>30</td>\n",
              "      <td>Drama</td>\n",
              "      <td>4.276013</td>\n",
              "      <td>2</td>\n",
              "      <td>Male</td>\n",
              "      <td>24</td>\n",
              "      <td>Yes</td>\n",
              "      <td>Yes</td>\n",
              "      <td>NPF69NT69N</td>\n",
              "      <td>0</td>\n",
              "    </tr>\n",
              "    <tr>\n",
              "      <th>4</th>\n",
              "      <td>57</td>\n",
              "      <td>16.953078</td>\n",
              "      <td>966.325422</td>\n",
              "      <td>Premium</td>\n",
              "      <td>Electronic check</td>\n",
              "      <td>Yes</td>\n",
              "      <td>TV Shows</td>\n",
              "      <td>No</td>\n",
              "      <td>TV</td>\n",
              "      <td>20.083397</td>\n",
              "      <td>...</td>\n",
              "      <td>20</td>\n",
              "      <td>Comedy</td>\n",
              "      <td>3.616170</td>\n",
              "      <td>4</td>\n",
              "      <td>Female</td>\n",
              "      <td>0</td>\n",
              "      <td>No</td>\n",
              "      <td>No</td>\n",
              "      <td>4LGYPK7VOL</td>\n",
              "      <td>0</td>\n",
              "    </tr>\n",
              "  </tbody>\n",
              "</table>\n",
              "<p>5 rows × 21 columns</p>\n",
              "</div>\n",
              "    <div class=\"colab-df-buttons\">\n",
              "\n",
              "  <div class=\"colab-df-container\">\n",
              "    <button class=\"colab-df-convert\" onclick=\"convertToInteractive('df-f1920e64-682f-4dfc-9fad-6280674ccabb')\"\n",
              "            title=\"Convert this dataframe to an interactive table.\"\n",
              "            style=\"display:none;\">\n",
              "\n",
              "  <svg xmlns=\"http://www.w3.org/2000/svg\" height=\"24px\" viewBox=\"0 -960 960 960\">\n",
              "    <path d=\"M120-120v-720h720v720H120Zm60-500h600v-160H180v160Zm220 220h160v-160H400v160Zm0 220h160v-160H400v160ZM180-400h160v-160H180v160Zm440 0h160v-160H620v160ZM180-180h160v-160H180v160Zm440 0h160v-160H620v160Z\"/>\n",
              "  </svg>\n",
              "    </button>\n",
              "\n",
              "  <style>\n",
              "    .colab-df-container {\n",
              "      display:flex;\n",
              "      gap: 12px;\n",
              "    }\n",
              "\n",
              "    .colab-df-convert {\n",
              "      background-color: #E8F0FE;\n",
              "      border: none;\n",
              "      border-radius: 50%;\n",
              "      cursor: pointer;\n",
              "      display: none;\n",
              "      fill: #1967D2;\n",
              "      height: 32px;\n",
              "      padding: 0 0 0 0;\n",
              "      width: 32px;\n",
              "    }\n",
              "\n",
              "    .colab-df-convert:hover {\n",
              "      background-color: #E2EBFA;\n",
              "      box-shadow: 0px 1px 2px rgba(60, 64, 67, 0.3), 0px 1px 3px 1px rgba(60, 64, 67, 0.15);\n",
              "      fill: #174EA6;\n",
              "    }\n",
              "\n",
              "    .colab-df-buttons div {\n",
              "      margin-bottom: 4px;\n",
              "    }\n",
              "\n",
              "    [theme=dark] .colab-df-convert {\n",
              "      background-color: #3B4455;\n",
              "      fill: #D2E3FC;\n",
              "    }\n",
              "\n",
              "    [theme=dark] .colab-df-convert:hover {\n",
              "      background-color: #434B5C;\n",
              "      box-shadow: 0px 1px 3px 1px rgba(0, 0, 0, 0.15);\n",
              "      filter: drop-shadow(0px 1px 2px rgba(0, 0, 0, 0.3));\n",
              "      fill: #FFFFFF;\n",
              "    }\n",
              "  </style>\n",
              "\n",
              "    <script>\n",
              "      const buttonEl =\n",
              "        document.querySelector('#df-f1920e64-682f-4dfc-9fad-6280674ccabb button.colab-df-convert');\n",
              "      buttonEl.style.display =\n",
              "        google.colab.kernel.accessAllowed ? 'block' : 'none';\n",
              "\n",
              "      async function convertToInteractive(key) {\n",
              "        const element = document.querySelector('#df-f1920e64-682f-4dfc-9fad-6280674ccabb');\n",
              "        const dataTable =\n",
              "          await google.colab.kernel.invokeFunction('convertToInteractive',\n",
              "                                                    [key], {});\n",
              "        if (!dataTable) return;\n",
              "\n",
              "        const docLinkHtml = 'Like what you see? Visit the ' +\n",
              "          '<a target=\"_blank\" href=https://colab.research.google.com/notebooks/data_table.ipynb>data table notebook</a>'\n",
              "          + ' to learn more about interactive tables.';\n",
              "        element.innerHTML = '';\n",
              "        dataTable['output_type'] = 'display_data';\n",
              "        await google.colab.output.renderOutput(dataTable, element);\n",
              "        const docLink = document.createElement('div');\n",
              "        docLink.innerHTML = docLinkHtml;\n",
              "        element.appendChild(docLink);\n",
              "      }\n",
              "    </script>\n",
              "  </div>\n",
              "\n",
              "\n",
              "<div id=\"df-9097bbd0-ce35-43ca-9e6e-31fd4c51f417\">\n",
              "  <button class=\"colab-df-quickchart\" onclick=\"quickchart('df-9097bbd0-ce35-43ca-9e6e-31fd4c51f417')\"\n",
              "            title=\"Suggest charts\"\n",
              "            style=\"display:none;\">\n",
              "\n",
              "<svg xmlns=\"http://www.w3.org/2000/svg\" height=\"24px\"viewBox=\"0 0 24 24\"\n",
              "     width=\"24px\">\n",
              "    <g>\n",
              "        <path d=\"M19 3H5c-1.1 0-2 .9-2 2v14c0 1.1.9 2 2 2h14c1.1 0 2-.9 2-2V5c0-1.1-.9-2-2-2zM9 17H7v-7h2v7zm4 0h-2V7h2v10zm4 0h-2v-4h2v4z\"/>\n",
              "    </g>\n",
              "</svg>\n",
              "  </button>\n",
              "\n",
              "<style>\n",
              "  .colab-df-quickchart {\n",
              "      --bg-color: #E8F0FE;\n",
              "      --fill-color: #1967D2;\n",
              "      --hover-bg-color: #E2EBFA;\n",
              "      --hover-fill-color: #174EA6;\n",
              "      --disabled-fill-color: #AAA;\n",
              "      --disabled-bg-color: #DDD;\n",
              "  }\n",
              "\n",
              "  [theme=dark] .colab-df-quickchart {\n",
              "      --bg-color: #3B4455;\n",
              "      --fill-color: #D2E3FC;\n",
              "      --hover-bg-color: #434B5C;\n",
              "      --hover-fill-color: #FFFFFF;\n",
              "      --disabled-bg-color: #3B4455;\n",
              "      --disabled-fill-color: #666;\n",
              "  }\n",
              "\n",
              "  .colab-df-quickchart {\n",
              "    background-color: var(--bg-color);\n",
              "    border: none;\n",
              "    border-radius: 50%;\n",
              "    cursor: pointer;\n",
              "    display: none;\n",
              "    fill: var(--fill-color);\n",
              "    height: 32px;\n",
              "    padding: 0;\n",
              "    width: 32px;\n",
              "  }\n",
              "\n",
              "  .colab-df-quickchart:hover {\n",
              "    background-color: var(--hover-bg-color);\n",
              "    box-shadow: 0 1px 2px rgba(60, 64, 67, 0.3), 0 1px 3px 1px rgba(60, 64, 67, 0.15);\n",
              "    fill: var(--button-hover-fill-color);\n",
              "  }\n",
              "\n",
              "  .colab-df-quickchart-complete:disabled,\n",
              "  .colab-df-quickchart-complete:disabled:hover {\n",
              "    background-color: var(--disabled-bg-color);\n",
              "    fill: var(--disabled-fill-color);\n",
              "    box-shadow: none;\n",
              "  }\n",
              "\n",
              "  .colab-df-spinner {\n",
              "    border: 2px solid var(--fill-color);\n",
              "    border-color: transparent;\n",
              "    border-bottom-color: var(--fill-color);\n",
              "    animation:\n",
              "      spin 1s steps(1) infinite;\n",
              "  }\n",
              "\n",
              "  @keyframes spin {\n",
              "    0% {\n",
              "      border-color: transparent;\n",
              "      border-bottom-color: var(--fill-color);\n",
              "      border-left-color: var(--fill-color);\n",
              "    }\n",
              "    20% {\n",
              "      border-color: transparent;\n",
              "      border-left-color: var(--fill-color);\n",
              "      border-top-color: var(--fill-color);\n",
              "    }\n",
              "    30% {\n",
              "      border-color: transparent;\n",
              "      border-left-color: var(--fill-color);\n",
              "      border-top-color: var(--fill-color);\n",
              "      border-right-color: var(--fill-color);\n",
              "    }\n",
              "    40% {\n",
              "      border-color: transparent;\n",
              "      border-right-color: var(--fill-color);\n",
              "      border-top-color: var(--fill-color);\n",
              "    }\n",
              "    60% {\n",
              "      border-color: transparent;\n",
              "      border-right-color: var(--fill-color);\n",
              "    }\n",
              "    80% {\n",
              "      border-color: transparent;\n",
              "      border-right-color: var(--fill-color);\n",
              "      border-bottom-color: var(--fill-color);\n",
              "    }\n",
              "    90% {\n",
              "      border-color: transparent;\n",
              "      border-bottom-color: var(--fill-color);\n",
              "    }\n",
              "  }\n",
              "</style>\n",
              "\n",
              "  <script>\n",
              "    async function quickchart(key) {\n",
              "      const quickchartButtonEl =\n",
              "        document.querySelector('#' + key + ' button');\n",
              "      quickchartButtonEl.disabled = true;  // To prevent multiple clicks.\n",
              "      quickchartButtonEl.classList.add('colab-df-spinner');\n",
              "      try {\n",
              "        const charts = await google.colab.kernel.invokeFunction(\n",
              "            'suggestCharts', [key], {});\n",
              "      } catch (error) {\n",
              "        console.error('Error during call to suggestCharts:', error);\n",
              "      }\n",
              "      quickchartButtonEl.classList.remove('colab-df-spinner');\n",
              "      quickchartButtonEl.classList.add('colab-df-quickchart-complete');\n",
              "    }\n",
              "    (() => {\n",
              "      let quickchartButtonEl =\n",
              "        document.querySelector('#df-9097bbd0-ce35-43ca-9e6e-31fd4c51f417 button');\n",
              "      quickchartButtonEl.style.display =\n",
              "        google.colab.kernel.accessAllowed ? 'block' : 'none';\n",
              "    })();\n",
              "  </script>\n",
              "</div>\n",
              "\n",
              "    </div>\n",
              "  </div>\n"
            ],
            "text/plain": [
              "   AccountAge  MonthlyCharges  TotalCharges SubscriptionType  \\\n",
              "0          20       11.055215    221.104302          Premium   \n",
              "1          57        5.175208    294.986882            Basic   \n",
              "2          73       12.106657    883.785952            Basic   \n",
              "3          32        7.263743    232.439774            Basic   \n",
              "4          57       16.953078    966.325422          Premium   \n",
              "\n",
              "      PaymentMethod PaperlessBilling ContentType MultiDeviceAccess  \\\n",
              "0      Mailed check               No        Both                No   \n",
              "1       Credit card              Yes      Movies                No   \n",
              "2      Mailed check              Yes      Movies                No   \n",
              "3  Electronic check               No    TV Shows                No   \n",
              "4  Electronic check              Yes    TV Shows                No   \n",
              "\n",
              "  DeviceRegistered  ViewingHoursPerWeek  ...  ContentDownloadsPerMonth  \\\n",
              "0           Mobile            36.758104  ...                        10   \n",
              "1           Tablet            32.450568  ...                        18   \n",
              "2         Computer             7.395160  ...                        23   \n",
              "3           Tablet            27.960389  ...                        30   \n",
              "4               TV            20.083397  ...                        20   \n",
              "\n",
              "   GenrePreference UserRating  SupportTicketsPerMonth  Gender WatchlistSize  \\\n",
              "0           Sci-Fi   2.176498                       4    Male             3   \n",
              "1           Action   3.478632                       8    Male            23   \n",
              "2          Fantasy   4.238824                       6    Male             1   \n",
              "3            Drama   4.276013                       2    Male            24   \n",
              "4           Comedy   3.616170                       4  Female             0   \n",
              "\n",
              "   ParentalControl SubtitlesEnabled  CustomerID Churn  \n",
              "0               No               No  CB6SXPNVZA     0  \n",
              "1               No              Yes  S7R2G87O09     0  \n",
              "2              Yes              Yes  EASDC20BDT     0  \n",
              "3              Yes              Yes  NPF69NT69N     0  \n",
              "4               No               No  4LGYPK7VOL     0  \n",
              "\n",
              "[5 rows x 21 columns]"
            ]
          },
          "execution_count": 41,
          "metadata": {},
          "output_type": "execute_result"
        }
      ],
      "source": [
        "df.head()"
      ]
    },
    {
      "cell_type": "code",
      "execution_count": null,
      "metadata": {
        "id": "GrL7Ghh-_zY9"
      },
      "outputs": [],
      "source": []
    },
    {
      "cell_type": "markdown",
      "metadata": {
        "id": "vyue9cWjAk6u"
      },
      "source": [
        "## cleaning"
      ]
    },
    {
      "cell_type": "code",
      "execution_count": null,
      "metadata": {
        "id": "bY72GYbdAnQ0"
      },
      "outputs": [],
      "source": [
        "#Missing values - No\n",
        "#outlirs\n",
        "#dats in right format\n",
        "#duplicates - No\n",
        "#structured data"
      ]
    },
    {
      "cell_type": "code",
      "execution_count": null,
      "metadata": {
        "colab": {
          "base_uri": "https://localhost:8080/"
        },
        "id": "XiKqsgUhA1D5",
        "outputId": "996ea823-1a8c-4f0d-f716-629af08188e1"
      },
      "outputs": [
        {
          "data": {
            "text/plain": [
              "AccountAge                  0\n",
              "MonthlyCharges              0\n",
              "TotalCharges                0\n",
              "SubscriptionType            0\n",
              "PaymentMethod               0\n",
              "PaperlessBilling            0\n",
              "ContentType                 0\n",
              "MultiDeviceAccess           0\n",
              "DeviceRegistered            0\n",
              "ViewingHoursPerWeek         0\n",
              "AverageViewingDuration      0\n",
              "ContentDownloadsPerMonth    0\n",
              "GenrePreference             0\n",
              "UserRating                  0\n",
              "SupportTicketsPerMonth      0\n",
              "Gender                      0\n",
              "WatchlistSize               0\n",
              "ParentalControl             0\n",
              "SubtitlesEnabled            0\n",
              "CustomerID                  0\n",
              "Churn                       0\n",
              "dtype: int64"
            ]
          },
          "execution_count": 43,
          "metadata": {},
          "output_type": "execute_result"
        }
      ],
      "source": [
        "df.isna().sum()"
      ]
    },
    {
      "cell_type": "code",
      "execution_count": null,
      "metadata": {
        "id": "DCwdq8M-A4u8"
      },
      "outputs": [],
      "source": [
        "df = df.drop_duplicates()"
      ]
    },
    {
      "cell_type": "code",
      "execution_count": null,
      "metadata": {
        "colab": {
          "base_uri": "https://localhost:8080/"
        },
        "id": "pPaydcobA4sd",
        "outputId": "675f7aaa-a9ae-4f18-d8fa-788d8464574b"
      },
      "outputs": [
        {
          "data": {
            "text/plain": [
              "(243787, 21)"
            ]
          },
          "execution_count": 45,
          "metadata": {},
          "output_type": "execute_result"
        }
      ],
      "source": [
        "df.shape"
      ]
    },
    {
      "cell_type": "code",
      "execution_count": null,
      "metadata": {
        "colab": {
          "base_uri": "https://localhost:8080/"
        },
        "id": "Sa5Boe9DA4py",
        "outputId": "3eedb451-ec9b-4f54-d7c3-3a35f61c41ac"
      },
      "outputs": [
        {
          "data": {
            "text/plain": [
              "AccountAge                    int64\n",
              "MonthlyCharges              float64\n",
              "TotalCharges                float64\n",
              "SubscriptionType             object\n",
              "PaymentMethod                object\n",
              "PaperlessBilling             object\n",
              "ContentType                  object\n",
              "MultiDeviceAccess            object\n",
              "DeviceRegistered             object\n",
              "ViewingHoursPerWeek         float64\n",
              "AverageViewingDuration      float64\n",
              "ContentDownloadsPerMonth      int64\n",
              "GenrePreference              object\n",
              "UserRating                  float64\n",
              "SupportTicketsPerMonth        int64\n",
              "Gender                       object\n",
              "WatchlistSize                 int64\n",
              "ParentalControl              object\n",
              "SubtitlesEnabled             object\n",
              "CustomerID                   object\n",
              "Churn                         int64\n",
              "dtype: object"
            ]
          },
          "execution_count": 46,
          "metadata": {},
          "output_type": "execute_result"
        }
      ],
      "source": [
        "df.dtypes"
      ]
    },
    {
      "cell_type": "code",
      "execution_count": null,
      "metadata": {
        "id": "omfLL6yHEYdw"
      },
      "outputs": [],
      "source": [
        "del df['CustomerID']"
      ]
    },
    {
      "cell_type": "code",
      "execution_count": null,
      "metadata": {
        "colab": {
          "base_uri": "https://localhost:8080/",
          "height": 443
        },
        "id": "cqVvCVrhEb5l",
        "outputId": "40880d8b-fcfa-4fea-c4d4-9ead5de4e679"
      },
      "outputs": [
        {
          "data": {
            "application/vnd.google.colaboratory.intrinsic+json": {
              "type": "dataframe",
              "variable_name": "df"
            },
            "text/html": [
              "\n",
              "  <div id=\"df-176865fa-b8f1-4334-96d6-b99703330bee\" class=\"colab-df-container\">\n",
              "    <div>\n",
              "<style scoped>\n",
              "    .dataframe tbody tr th:only-of-type {\n",
              "        vertical-align: middle;\n",
              "    }\n",
              "\n",
              "    .dataframe tbody tr th {\n",
              "        vertical-align: top;\n",
              "    }\n",
              "\n",
              "    .dataframe thead th {\n",
              "        text-align: right;\n",
              "    }\n",
              "</style>\n",
              "<table border=\"1\" class=\"dataframe\">\n",
              "  <thead>\n",
              "    <tr style=\"text-align: right;\">\n",
              "      <th></th>\n",
              "      <th>AccountAge</th>\n",
              "      <th>MonthlyCharges</th>\n",
              "      <th>TotalCharges</th>\n",
              "      <th>SubscriptionType</th>\n",
              "      <th>PaymentMethod</th>\n",
              "      <th>PaperlessBilling</th>\n",
              "      <th>ContentType</th>\n",
              "      <th>MultiDeviceAccess</th>\n",
              "      <th>DeviceRegistered</th>\n",
              "      <th>ViewingHoursPerWeek</th>\n",
              "      <th>AverageViewingDuration</th>\n",
              "      <th>ContentDownloadsPerMonth</th>\n",
              "      <th>GenrePreference</th>\n",
              "      <th>UserRating</th>\n",
              "      <th>SupportTicketsPerMonth</th>\n",
              "      <th>Gender</th>\n",
              "      <th>WatchlistSize</th>\n",
              "      <th>ParentalControl</th>\n",
              "      <th>SubtitlesEnabled</th>\n",
              "      <th>Churn</th>\n",
              "    </tr>\n",
              "  </thead>\n",
              "  <tbody>\n",
              "    <tr>\n",
              "      <th>0</th>\n",
              "      <td>20</td>\n",
              "      <td>11.055215</td>\n",
              "      <td>221.104302</td>\n",
              "      <td>Premium</td>\n",
              "      <td>Mailed check</td>\n",
              "      <td>No</td>\n",
              "      <td>Both</td>\n",
              "      <td>No</td>\n",
              "      <td>Mobile</td>\n",
              "      <td>36.758104</td>\n",
              "      <td>63.531377</td>\n",
              "      <td>10</td>\n",
              "      <td>Sci-Fi</td>\n",
              "      <td>2.176498</td>\n",
              "      <td>4</td>\n",
              "      <td>Male</td>\n",
              "      <td>3</td>\n",
              "      <td>No</td>\n",
              "      <td>No</td>\n",
              "      <td>0</td>\n",
              "    </tr>\n",
              "    <tr>\n",
              "      <th>1</th>\n",
              "      <td>57</td>\n",
              "      <td>5.175208</td>\n",
              "      <td>294.986882</td>\n",
              "      <td>Basic</td>\n",
              "      <td>Credit card</td>\n",
              "      <td>Yes</td>\n",
              "      <td>Movies</td>\n",
              "      <td>No</td>\n",
              "      <td>Tablet</td>\n",
              "      <td>32.450568</td>\n",
              "      <td>25.725595</td>\n",
              "      <td>18</td>\n",
              "      <td>Action</td>\n",
              "      <td>3.478632</td>\n",
              "      <td>8</td>\n",
              "      <td>Male</td>\n",
              "      <td>23</td>\n",
              "      <td>No</td>\n",
              "      <td>Yes</td>\n",
              "      <td>0</td>\n",
              "    </tr>\n",
              "    <tr>\n",
              "      <th>2</th>\n",
              "      <td>73</td>\n",
              "      <td>12.106657</td>\n",
              "      <td>883.785952</td>\n",
              "      <td>Basic</td>\n",
              "      <td>Mailed check</td>\n",
              "      <td>Yes</td>\n",
              "      <td>Movies</td>\n",
              "      <td>No</td>\n",
              "      <td>Computer</td>\n",
              "      <td>7.395160</td>\n",
              "      <td>57.364061</td>\n",
              "      <td>23</td>\n",
              "      <td>Fantasy</td>\n",
              "      <td>4.238824</td>\n",
              "      <td>6</td>\n",
              "      <td>Male</td>\n",
              "      <td>1</td>\n",
              "      <td>Yes</td>\n",
              "      <td>Yes</td>\n",
              "      <td>0</td>\n",
              "    </tr>\n",
              "    <tr>\n",
              "      <th>3</th>\n",
              "      <td>32</td>\n",
              "      <td>7.263743</td>\n",
              "      <td>232.439774</td>\n",
              "      <td>Basic</td>\n",
              "      <td>Electronic check</td>\n",
              "      <td>No</td>\n",
              "      <td>TV Shows</td>\n",
              "      <td>No</td>\n",
              "      <td>Tablet</td>\n",
              "      <td>27.960389</td>\n",
              "      <td>131.537507</td>\n",
              "      <td>30</td>\n",
              "      <td>Drama</td>\n",
              "      <td>4.276013</td>\n",
              "      <td>2</td>\n",
              "      <td>Male</td>\n",
              "      <td>24</td>\n",
              "      <td>Yes</td>\n",
              "      <td>Yes</td>\n",
              "      <td>0</td>\n",
              "    </tr>\n",
              "    <tr>\n",
              "      <th>4</th>\n",
              "      <td>57</td>\n",
              "      <td>16.953078</td>\n",
              "      <td>966.325422</td>\n",
              "      <td>Premium</td>\n",
              "      <td>Electronic check</td>\n",
              "      <td>Yes</td>\n",
              "      <td>TV Shows</td>\n",
              "      <td>No</td>\n",
              "      <td>TV</td>\n",
              "      <td>20.083397</td>\n",
              "      <td>45.356653</td>\n",
              "      <td>20</td>\n",
              "      <td>Comedy</td>\n",
              "      <td>3.616170</td>\n",
              "      <td>4</td>\n",
              "      <td>Female</td>\n",
              "      <td>0</td>\n",
              "      <td>No</td>\n",
              "      <td>No</td>\n",
              "      <td>0</td>\n",
              "    </tr>\n",
              "    <tr>\n",
              "      <th>...</th>\n",
              "      <td>...</td>\n",
              "      <td>...</td>\n",
              "      <td>...</td>\n",
              "      <td>...</td>\n",
              "      <td>...</td>\n",
              "      <td>...</td>\n",
              "      <td>...</td>\n",
              "      <td>...</td>\n",
              "      <td>...</td>\n",
              "      <td>...</td>\n",
              "      <td>...</td>\n",
              "      <td>...</td>\n",
              "      <td>...</td>\n",
              "      <td>...</td>\n",
              "      <td>...</td>\n",
              "      <td>...</td>\n",
              "      <td>...</td>\n",
              "      <td>...</td>\n",
              "      <td>...</td>\n",
              "      <td>...</td>\n",
              "    </tr>\n",
              "    <tr>\n",
              "      <th>243782</th>\n",
              "      <td>77</td>\n",
              "      <td>9.639902</td>\n",
              "      <td>742.272460</td>\n",
              "      <td>Basic</td>\n",
              "      <td>Mailed check</td>\n",
              "      <td>No</td>\n",
              "      <td>Movies</td>\n",
              "      <td>No</td>\n",
              "      <td>Computer</td>\n",
              "      <td>13.502729</td>\n",
              "      <td>80.367312</td>\n",
              "      <td>47</td>\n",
              "      <td>Sci-Fi</td>\n",
              "      <td>3.697451</td>\n",
              "      <td>1</td>\n",
              "      <td>Male</td>\n",
              "      <td>8</td>\n",
              "      <td>Yes</td>\n",
              "      <td>No</td>\n",
              "      <td>0</td>\n",
              "    </tr>\n",
              "    <tr>\n",
              "      <th>243783</th>\n",
              "      <td>117</td>\n",
              "      <td>13.049257</td>\n",
              "      <td>1526.763053</td>\n",
              "      <td>Premium</td>\n",
              "      <td>Credit card</td>\n",
              "      <td>No</td>\n",
              "      <td>TV Shows</td>\n",
              "      <td>Yes</td>\n",
              "      <td>TV</td>\n",
              "      <td>24.963291</td>\n",
              "      <td>59.818441</td>\n",
              "      <td>35</td>\n",
              "      <td>Comedy</td>\n",
              "      <td>1.449742</td>\n",
              "      <td>4</td>\n",
              "      <td>Male</td>\n",
              "      <td>20</td>\n",
              "      <td>No</td>\n",
              "      <td>No</td>\n",
              "      <td>0</td>\n",
              "    </tr>\n",
              "    <tr>\n",
              "      <th>243784</th>\n",
              "      <td>113</td>\n",
              "      <td>14.514569</td>\n",
              "      <td>1640.146267</td>\n",
              "      <td>Premium</td>\n",
              "      <td>Credit card</td>\n",
              "      <td>Yes</td>\n",
              "      <td>TV Shows</td>\n",
              "      <td>No</td>\n",
              "      <td>TV</td>\n",
              "      <td>10.628728</td>\n",
              "      <td>176.186095</td>\n",
              "      <td>44</td>\n",
              "      <td>Action</td>\n",
              "      <td>4.012217</td>\n",
              "      <td>6</td>\n",
              "      <td>Male</td>\n",
              "      <td>13</td>\n",
              "      <td>Yes</td>\n",
              "      <td>Yes</td>\n",
              "      <td>0</td>\n",
              "    </tr>\n",
              "    <tr>\n",
              "      <th>243785</th>\n",
              "      <td>7</td>\n",
              "      <td>18.140555</td>\n",
              "      <td>126.983887</td>\n",
              "      <td>Premium</td>\n",
              "      <td>Bank transfer</td>\n",
              "      <td>Yes</td>\n",
              "      <td>TV Shows</td>\n",
              "      <td>No</td>\n",
              "      <td>TV</td>\n",
              "      <td>30.466782</td>\n",
              "      <td>153.386315</td>\n",
              "      <td>36</td>\n",
              "      <td>Fantasy</td>\n",
              "      <td>2.135789</td>\n",
              "      <td>7</td>\n",
              "      <td>Female</td>\n",
              "      <td>5</td>\n",
              "      <td>No</td>\n",
              "      <td>Yes</td>\n",
              "      <td>0</td>\n",
              "    </tr>\n",
              "    <tr>\n",
              "      <th>243786</th>\n",
              "      <td>90</td>\n",
              "      <td>11.593774</td>\n",
              "      <td>1043.439704</td>\n",
              "      <td>Premium</td>\n",
              "      <td>Mailed check</td>\n",
              "      <td>No</td>\n",
              "      <td>Both</td>\n",
              "      <td>No</td>\n",
              "      <td>TV</td>\n",
              "      <td>24.972537</td>\n",
              "      <td>84.824498</td>\n",
              "      <td>11</td>\n",
              "      <td>Action</td>\n",
              "      <td>1.428896</td>\n",
              "      <td>3</td>\n",
              "      <td>Female</td>\n",
              "      <td>1</td>\n",
              "      <td>Yes</td>\n",
              "      <td>No</td>\n",
              "      <td>0</td>\n",
              "    </tr>\n",
              "  </tbody>\n",
              "</table>\n",
              "<p>243787 rows × 20 columns</p>\n",
              "</div>\n",
              "    <div class=\"colab-df-buttons\">\n",
              "\n",
              "  <div class=\"colab-df-container\">\n",
              "    <button class=\"colab-df-convert\" onclick=\"convertToInteractive('df-176865fa-b8f1-4334-96d6-b99703330bee')\"\n",
              "            title=\"Convert this dataframe to an interactive table.\"\n",
              "            style=\"display:none;\">\n",
              "\n",
              "  <svg xmlns=\"http://www.w3.org/2000/svg\" height=\"24px\" viewBox=\"0 -960 960 960\">\n",
              "    <path d=\"M120-120v-720h720v720H120Zm60-500h600v-160H180v160Zm220 220h160v-160H400v160Zm0 220h160v-160H400v160ZM180-400h160v-160H180v160Zm440 0h160v-160H620v160ZM180-180h160v-160H180v160Zm440 0h160v-160H620v160Z\"/>\n",
              "  </svg>\n",
              "    </button>\n",
              "\n",
              "  <style>\n",
              "    .colab-df-container {\n",
              "      display:flex;\n",
              "      gap: 12px;\n",
              "    }\n",
              "\n",
              "    .colab-df-convert {\n",
              "      background-color: #E8F0FE;\n",
              "      border: none;\n",
              "      border-radius: 50%;\n",
              "      cursor: pointer;\n",
              "      display: none;\n",
              "      fill: #1967D2;\n",
              "      height: 32px;\n",
              "      padding: 0 0 0 0;\n",
              "      width: 32px;\n",
              "    }\n",
              "\n",
              "    .colab-df-convert:hover {\n",
              "      background-color: #E2EBFA;\n",
              "      box-shadow: 0px 1px 2px rgba(60, 64, 67, 0.3), 0px 1px 3px 1px rgba(60, 64, 67, 0.15);\n",
              "      fill: #174EA6;\n",
              "    }\n",
              "\n",
              "    .colab-df-buttons div {\n",
              "      margin-bottom: 4px;\n",
              "    }\n",
              "\n",
              "    [theme=dark] .colab-df-convert {\n",
              "      background-color: #3B4455;\n",
              "      fill: #D2E3FC;\n",
              "    }\n",
              "\n",
              "    [theme=dark] .colab-df-convert:hover {\n",
              "      background-color: #434B5C;\n",
              "      box-shadow: 0px 1px 3px 1px rgba(0, 0, 0, 0.15);\n",
              "      filter: drop-shadow(0px 1px 2px rgba(0, 0, 0, 0.3));\n",
              "      fill: #FFFFFF;\n",
              "    }\n",
              "  </style>\n",
              "\n",
              "    <script>\n",
              "      const buttonEl =\n",
              "        document.querySelector('#df-176865fa-b8f1-4334-96d6-b99703330bee button.colab-df-convert');\n",
              "      buttonEl.style.display =\n",
              "        google.colab.kernel.accessAllowed ? 'block' : 'none';\n",
              "\n",
              "      async function convertToInteractive(key) {\n",
              "        const element = document.querySelector('#df-176865fa-b8f1-4334-96d6-b99703330bee');\n",
              "        const dataTable =\n",
              "          await google.colab.kernel.invokeFunction('convertToInteractive',\n",
              "                                                    [key], {});\n",
              "        if (!dataTable) return;\n",
              "\n",
              "        const docLinkHtml = 'Like what you see? Visit the ' +\n",
              "          '<a target=\"_blank\" href=https://colab.research.google.com/notebooks/data_table.ipynb>data table notebook</a>'\n",
              "          + ' to learn more about interactive tables.';\n",
              "        element.innerHTML = '';\n",
              "        dataTable['output_type'] = 'display_data';\n",
              "        await google.colab.output.renderOutput(dataTable, element);\n",
              "        const docLink = document.createElement('div');\n",
              "        docLink.innerHTML = docLinkHtml;\n",
              "        element.appendChild(docLink);\n",
              "      }\n",
              "    </script>\n",
              "  </div>\n",
              "\n",
              "\n",
              "<div id=\"df-a2d42e6a-6d67-4cb5-bef3-c447ac947ffa\">\n",
              "  <button class=\"colab-df-quickchart\" onclick=\"quickchart('df-a2d42e6a-6d67-4cb5-bef3-c447ac947ffa')\"\n",
              "            title=\"Suggest charts\"\n",
              "            style=\"display:none;\">\n",
              "\n",
              "<svg xmlns=\"http://www.w3.org/2000/svg\" height=\"24px\"viewBox=\"0 0 24 24\"\n",
              "     width=\"24px\">\n",
              "    <g>\n",
              "        <path d=\"M19 3H5c-1.1 0-2 .9-2 2v14c0 1.1.9 2 2 2h14c1.1 0 2-.9 2-2V5c0-1.1-.9-2-2-2zM9 17H7v-7h2v7zm4 0h-2V7h2v10zm4 0h-2v-4h2v4z\"/>\n",
              "    </g>\n",
              "</svg>\n",
              "  </button>\n",
              "\n",
              "<style>\n",
              "  .colab-df-quickchart {\n",
              "      --bg-color: #E8F0FE;\n",
              "      --fill-color: #1967D2;\n",
              "      --hover-bg-color: #E2EBFA;\n",
              "      --hover-fill-color: #174EA6;\n",
              "      --disabled-fill-color: #AAA;\n",
              "      --disabled-bg-color: #DDD;\n",
              "  }\n",
              "\n",
              "  [theme=dark] .colab-df-quickchart {\n",
              "      --bg-color: #3B4455;\n",
              "      --fill-color: #D2E3FC;\n",
              "      --hover-bg-color: #434B5C;\n",
              "      --hover-fill-color: #FFFFFF;\n",
              "      --disabled-bg-color: #3B4455;\n",
              "      --disabled-fill-color: #666;\n",
              "  }\n",
              "\n",
              "  .colab-df-quickchart {\n",
              "    background-color: var(--bg-color);\n",
              "    border: none;\n",
              "    border-radius: 50%;\n",
              "    cursor: pointer;\n",
              "    display: none;\n",
              "    fill: var(--fill-color);\n",
              "    height: 32px;\n",
              "    padding: 0;\n",
              "    width: 32px;\n",
              "  }\n",
              "\n",
              "  .colab-df-quickchart:hover {\n",
              "    background-color: var(--hover-bg-color);\n",
              "    box-shadow: 0 1px 2px rgba(60, 64, 67, 0.3), 0 1px 3px 1px rgba(60, 64, 67, 0.15);\n",
              "    fill: var(--button-hover-fill-color);\n",
              "  }\n",
              "\n",
              "  .colab-df-quickchart-complete:disabled,\n",
              "  .colab-df-quickchart-complete:disabled:hover {\n",
              "    background-color: var(--disabled-bg-color);\n",
              "    fill: var(--disabled-fill-color);\n",
              "    box-shadow: none;\n",
              "  }\n",
              "\n",
              "  .colab-df-spinner {\n",
              "    border: 2px solid var(--fill-color);\n",
              "    border-color: transparent;\n",
              "    border-bottom-color: var(--fill-color);\n",
              "    animation:\n",
              "      spin 1s steps(1) infinite;\n",
              "  }\n",
              "\n",
              "  @keyframes spin {\n",
              "    0% {\n",
              "      border-color: transparent;\n",
              "      border-bottom-color: var(--fill-color);\n",
              "      border-left-color: var(--fill-color);\n",
              "    }\n",
              "    20% {\n",
              "      border-color: transparent;\n",
              "      border-left-color: var(--fill-color);\n",
              "      border-top-color: var(--fill-color);\n",
              "    }\n",
              "    30% {\n",
              "      border-color: transparent;\n",
              "      border-left-color: var(--fill-color);\n",
              "      border-top-color: var(--fill-color);\n",
              "      border-right-color: var(--fill-color);\n",
              "    }\n",
              "    40% {\n",
              "      border-color: transparent;\n",
              "      border-right-color: var(--fill-color);\n",
              "      border-top-color: var(--fill-color);\n",
              "    }\n",
              "    60% {\n",
              "      border-color: transparent;\n",
              "      border-right-color: var(--fill-color);\n",
              "    }\n",
              "    80% {\n",
              "      border-color: transparent;\n",
              "      border-right-color: var(--fill-color);\n",
              "      border-bottom-color: var(--fill-color);\n",
              "    }\n",
              "    90% {\n",
              "      border-color: transparent;\n",
              "      border-bottom-color: var(--fill-color);\n",
              "    }\n",
              "  }\n",
              "</style>\n",
              "\n",
              "  <script>\n",
              "    async function quickchart(key) {\n",
              "      const quickchartButtonEl =\n",
              "        document.querySelector('#' + key + ' button');\n",
              "      quickchartButtonEl.disabled = true;  // To prevent multiple clicks.\n",
              "      quickchartButtonEl.classList.add('colab-df-spinner');\n",
              "      try {\n",
              "        const charts = await google.colab.kernel.invokeFunction(\n",
              "            'suggestCharts', [key], {});\n",
              "      } catch (error) {\n",
              "        console.error('Error during call to suggestCharts:', error);\n",
              "      }\n",
              "      quickchartButtonEl.classList.remove('colab-df-spinner');\n",
              "      quickchartButtonEl.classList.add('colab-df-quickchart-complete');\n",
              "    }\n",
              "    (() => {\n",
              "      let quickchartButtonEl =\n",
              "        document.querySelector('#df-a2d42e6a-6d67-4cb5-bef3-c447ac947ffa button');\n",
              "      quickchartButtonEl.style.display =\n",
              "        google.colab.kernel.accessAllowed ? 'block' : 'none';\n",
              "    })();\n",
              "  </script>\n",
              "</div>\n",
              "\n",
              "  <div id=\"id_3e4d36d7-f6ff-43ba-bdee-bc1b448a2818\">\n",
              "    <style>\n",
              "      .colab-df-generate {\n",
              "        background-color: #E8F0FE;\n",
              "        border: none;\n",
              "        border-radius: 50%;\n",
              "        cursor: pointer;\n",
              "        display: none;\n",
              "        fill: #1967D2;\n",
              "        height: 32px;\n",
              "        padding: 0 0 0 0;\n",
              "        width: 32px;\n",
              "      }\n",
              "\n",
              "      .colab-df-generate:hover {\n",
              "        background-color: #E2EBFA;\n",
              "        box-shadow: 0px 1px 2px rgba(60, 64, 67, 0.3), 0px 1px 3px 1px rgba(60, 64, 67, 0.15);\n",
              "        fill: #174EA6;\n",
              "      }\n",
              "\n",
              "      [theme=dark] .colab-df-generate {\n",
              "        background-color: #3B4455;\n",
              "        fill: #D2E3FC;\n",
              "      }\n",
              "\n",
              "      [theme=dark] .colab-df-generate:hover {\n",
              "        background-color: #434B5C;\n",
              "        box-shadow: 0px 1px 3px 1px rgba(0, 0, 0, 0.15);\n",
              "        filter: drop-shadow(0px 1px 2px rgba(0, 0, 0, 0.3));\n",
              "        fill: #FFFFFF;\n",
              "      }\n",
              "    </style>\n",
              "    <button class=\"colab-df-generate\" onclick=\"generateWithVariable('df')\"\n",
              "            title=\"Generate code using this dataframe.\"\n",
              "            style=\"display:none;\">\n",
              "\n",
              "  <svg xmlns=\"http://www.w3.org/2000/svg\" height=\"24px\"viewBox=\"0 0 24 24\"\n",
              "       width=\"24px\">\n",
              "    <path d=\"M7,19H8.4L18.45,9,17,7.55,7,17.6ZM5,21V16.75L18.45,3.32a2,2,0,0,1,2.83,0l1.4,1.43a1.91,1.91,0,0,1,.58,1.4,1.91,1.91,0,0,1-.58,1.4L9.25,21ZM18.45,9,17,7.55Zm-12,3A5.31,5.31,0,0,0,4.9,8.1,5.31,5.31,0,0,0,1,6.5,5.31,5.31,0,0,0,4.9,4.9,5.31,5.31,0,0,0,6.5,1,5.31,5.31,0,0,0,8.1,4.9,5.31,5.31,0,0,0,12,6.5,5.46,5.46,0,0,0,6.5,12Z\"/>\n",
              "  </svg>\n",
              "    </button>\n",
              "    <script>\n",
              "      (() => {\n",
              "      const buttonEl =\n",
              "        document.querySelector('#id_3e4d36d7-f6ff-43ba-bdee-bc1b448a2818 button.colab-df-generate');\n",
              "      buttonEl.style.display =\n",
              "        google.colab.kernel.accessAllowed ? 'block' : 'none';\n",
              "\n",
              "      buttonEl.onclick = () => {\n",
              "        google.colab.notebook.generateWithVariable('df');\n",
              "      }\n",
              "      })();\n",
              "    </script>\n",
              "  </div>\n",
              "\n",
              "    </div>\n",
              "  </div>\n"
            ],
            "text/plain": [
              "        AccountAge  MonthlyCharges  TotalCharges SubscriptionType  \\\n",
              "0               20       11.055215    221.104302          Premium   \n",
              "1               57        5.175208    294.986882            Basic   \n",
              "2               73       12.106657    883.785952            Basic   \n",
              "3               32        7.263743    232.439774            Basic   \n",
              "4               57       16.953078    966.325422          Premium   \n",
              "...            ...             ...           ...              ...   \n",
              "243782          77        9.639902    742.272460            Basic   \n",
              "243783         117       13.049257   1526.763053          Premium   \n",
              "243784         113       14.514569   1640.146267          Premium   \n",
              "243785           7       18.140555    126.983887          Premium   \n",
              "243786          90       11.593774   1043.439704          Premium   \n",
              "\n",
              "           PaymentMethod PaperlessBilling ContentType MultiDeviceAccess  \\\n",
              "0           Mailed check               No        Both                No   \n",
              "1            Credit card              Yes      Movies                No   \n",
              "2           Mailed check              Yes      Movies                No   \n",
              "3       Electronic check               No    TV Shows                No   \n",
              "4       Electronic check              Yes    TV Shows                No   \n",
              "...                  ...              ...         ...               ...   \n",
              "243782      Mailed check               No      Movies                No   \n",
              "243783       Credit card               No    TV Shows               Yes   \n",
              "243784       Credit card              Yes    TV Shows                No   \n",
              "243785     Bank transfer              Yes    TV Shows                No   \n",
              "243786      Mailed check               No        Both                No   \n",
              "\n",
              "       DeviceRegistered  ViewingHoursPerWeek  AverageViewingDuration  \\\n",
              "0                Mobile            36.758104               63.531377   \n",
              "1                Tablet            32.450568               25.725595   \n",
              "2              Computer             7.395160               57.364061   \n",
              "3                Tablet            27.960389              131.537507   \n",
              "4                    TV            20.083397               45.356653   \n",
              "...                 ...                  ...                     ...   \n",
              "243782         Computer            13.502729               80.367312   \n",
              "243783               TV            24.963291               59.818441   \n",
              "243784               TV            10.628728              176.186095   \n",
              "243785               TV            30.466782              153.386315   \n",
              "243786               TV            24.972537               84.824498   \n",
              "\n",
              "        ContentDownloadsPerMonth GenrePreference  UserRating  \\\n",
              "0                             10          Sci-Fi    2.176498   \n",
              "1                             18          Action    3.478632   \n",
              "2                             23         Fantasy    4.238824   \n",
              "3                             30           Drama    4.276013   \n",
              "4                             20          Comedy    3.616170   \n",
              "...                          ...             ...         ...   \n",
              "243782                        47          Sci-Fi    3.697451   \n",
              "243783                        35          Comedy    1.449742   \n",
              "243784                        44          Action    4.012217   \n",
              "243785                        36         Fantasy    2.135789   \n",
              "243786                        11          Action    1.428896   \n",
              "\n",
              "        SupportTicketsPerMonth  Gender  WatchlistSize ParentalControl  \\\n",
              "0                            4    Male              3              No   \n",
              "1                            8    Male             23              No   \n",
              "2                            6    Male              1             Yes   \n",
              "3                            2    Male             24             Yes   \n",
              "4                            4  Female              0              No   \n",
              "...                        ...     ...            ...             ...   \n",
              "243782                       1    Male              8             Yes   \n",
              "243783                       4    Male             20              No   \n",
              "243784                       6    Male             13             Yes   \n",
              "243785                       7  Female              5              No   \n",
              "243786                       3  Female              1             Yes   \n",
              "\n",
              "       SubtitlesEnabled  Churn  \n",
              "0                    No      0  \n",
              "1                   Yes      0  \n",
              "2                   Yes      0  \n",
              "3                   Yes      0  \n",
              "4                    No      0  \n",
              "...                 ...    ...  \n",
              "243782               No      0  \n",
              "243783               No      0  \n",
              "243784              Yes      0  \n",
              "243785              Yes      0  \n",
              "243786               No      0  \n",
              "\n",
              "[243787 rows x 20 columns]"
            ]
          },
          "execution_count": 49,
          "metadata": {},
          "output_type": "execute_result"
        }
      ],
      "source": [
        "df"
      ]
    },
    {
      "cell_type": "markdown",
      "metadata": {
        "id": "rHFYYXC9EuCZ"
      },
      "source": [
        "## Account age"
      ]
    },
    {
      "cell_type": "code",
      "execution_count": null,
      "metadata": {
        "colab": {
          "base_uri": "https://localhost:8080/"
        },
        "id": "MXZ1_RpNExir",
        "outputId": "1ad5612f-65ca-4fd8-ae5e-867040e91b3b"
      },
      "outputs": [
        {
          "data": {
            "text/plain": [
              "count    243787.000000\n",
              "mean         60.083758\n",
              "std          34.285143\n",
              "min           1.000000\n",
              "25%          30.000000\n",
              "50%          60.000000\n",
              "75%          90.000000\n",
              "max         119.000000\n",
              "Name: AccountAge, dtype: float64"
            ]
          },
          "execution_count": 50,
          "metadata": {},
          "output_type": "execute_result"
        }
      ],
      "source": [
        "df['AccountAge'].describe()"
      ]
    },
    {
      "cell_type": "code",
      "execution_count": null,
      "metadata": {
        "colab": {
          "base_uri": "https://localhost:8080/"
        },
        "id": "akSdlP4IExfo",
        "outputId": "7ac03c67-faa5-48a7-f13d-96e537aa6122"
      },
      "outputs": [
        {
          "data": {
            "text/plain": [
              "Churn\n",
              "0    63.273290\n",
              "1    45.674121\n",
              "Name: AccountAge, dtype: float64"
            ]
          },
          "execution_count": 52,
          "metadata": {},
          "output_type": "execute_result"
        }
      ],
      "source": [
        "df.groupby('Churn')['AccountAge'].mean()"
      ]
    },
    {
      "cell_type": "code",
      "execution_count": null,
      "metadata": {
        "id": "ZpT6BR4UExbS"
      },
      "outputs": [],
      "source": []
    },
    {
      "cell_type": "code",
      "execution_count": null,
      "metadata": {
        "colab": {
          "base_uri": "https://localhost:8080/"
        },
        "id": "VEc-sLpnA4nN",
        "outputId": "ceb177ad-90d8-451f-fc09-0a603618807a"
      },
      "outputs": [
        {
          "name": "stdout",
          "output_type": "stream",
          "text": [
            "-60.0 180.0\n"
          ]
        }
      ],
      "source": [
        "iqr = df['AccountAge'].quantile(0.75) - df['AccountAge'].quantile(0.25)\n",
        "upper_threshold = df['AccountAge'].quantile(0.75) + (1.5 * iqr)\n",
        "lower_threshold = df['AccountAge'].quantile(0.25) - (1.5 * iqr)\n",
        "print(lower_threshold, upper_threshold)"
      ]
    },
    {
      "cell_type": "code",
      "execution_count": null,
      "metadata": {
        "id": "nEba8BI-A4kh"
      },
      "outputs": [],
      "source": []
    },
    {
      "cell_type": "markdown",
      "metadata": {
        "id": "f9AYa3AhF7QR"
      },
      "source": [
        "## Monthly charges"
      ]
    },
    {
      "cell_type": "code",
      "execution_count": null,
      "metadata": {
        "colab": {
          "base_uri": "https://localhost:8080/"
        },
        "id": "8jiGo6onA4h5",
        "outputId": "52d4824e-09ed-4abd-9e3e-7c650b25f98c"
      },
      "outputs": [
        {
          "data": {
            "text/plain": [
              "count    243787.000000\n",
              "mean         12.490695\n",
              "std           4.327615\n",
              "min           4.990062\n",
              "25%           8.738543\n",
              "50%          12.495555\n",
              "75%          16.238160\n",
              "max          19.989957\n",
              "Name: MonthlyCharges, dtype: float64"
            ]
          },
          "execution_count": 53,
          "metadata": {},
          "output_type": "execute_result"
        }
      ],
      "source": [
        "df['MonthlyCharges'].describe()"
      ]
    },
    {
      "cell_type": "code",
      "execution_count": null,
      "metadata": {
        "colab": {
          "base_uri": "https://localhost:8080/"
        },
        "id": "gs4HSKqsGGhY",
        "outputId": "4f339fc9-1f1b-4fce-c12a-3935ae3a93a9"
      },
      "outputs": [
        {
          "data": {
            "text/plain": [
              "dtype('float64')"
            ]
          },
          "execution_count": 56,
          "metadata": {},
          "output_type": "execute_result"
        }
      ],
      "source": [
        "df['MonthlyCharges'].dtype"
      ]
    },
    {
      "cell_type": "code",
      "execution_count": null,
      "metadata": {
        "colab": {
          "base_uri": "https://localhost:8080/"
        },
        "id": "4N820_ImGJqU",
        "outputId": "fe2890ab-5032-4951-f8a7-cb631f4d2019"
      },
      "outputs": [
        {
          "data": {
            "text/plain": [
              "Churn\n",
              "0    12.286129\n",
              "1    13.414880\n",
              "Name: MonthlyCharges, dtype: float64"
            ]
          },
          "execution_count": 57,
          "metadata": {},
          "output_type": "execute_result"
        }
      ],
      "source": [
        "df.groupby('Churn')['MonthlyCharges'].mean()"
      ]
    },
    {
      "cell_type": "code",
      "execution_count": null,
      "metadata": {
        "id": "qOVIGV0fGelW"
      },
      "outputs": [],
      "source": [
        "del df['MonthlyCharges']"
      ]
    },
    {
      "cell_type": "code",
      "execution_count": null,
      "metadata": {
        "id": "vf--qyqAGiNL"
      },
      "outputs": [],
      "source": []
    },
    {
      "cell_type": "markdown",
      "metadata": {
        "id": "eUgzac3eGjEr"
      },
      "source": [
        "## total charges"
      ]
    },
    {
      "cell_type": "code",
      "execution_count": null,
      "metadata": {
        "colab": {
          "base_uri": "https://localhost:8080/"
        },
        "id": "t6kdYoohGlcT",
        "outputId": "b3be9cf2-4d30-4f36-cdd9-e4479c783ca3"
      },
      "outputs": [
        {
          "data": {
            "text/plain": [
              "dtype('float64')"
            ]
          },
          "execution_count": 59,
          "metadata": {},
          "output_type": "execute_result"
        }
      ],
      "source": [
        "df['TotalCharges'].dtypes"
      ]
    },
    {
      "cell_type": "code",
      "execution_count": null,
      "metadata": {
        "colab": {
          "base_uri": "https://localhost:8080/"
        },
        "id": "XI7b6eV7GvFM",
        "outputId": "eea83591-5725-4c67-d812-477c1eb67f5f"
      },
      "outputs": [
        {
          "data": {
            "text/plain": [
              "count    243787.000000\n",
              "mean        750.741017\n",
              "std         523.073273\n",
              "min           4.991154\n",
              "25%         329.147027\n",
              "50%         649.878487\n",
              "75%        1089.317362\n",
              "max        2378.723844\n",
              "Name: TotalCharges, dtype: float64"
            ]
          },
          "execution_count": 60,
          "metadata": {},
          "output_type": "execute_result"
        }
      ],
      "source": [
        "df['TotalCharges'].describe()"
      ]
    },
    {
      "cell_type": "code",
      "execution_count": null,
      "metadata": {
        "colab": {
          "base_uri": "https://localhost:8080/"
        },
        "id": "6-a69WoaGzyc",
        "outputId": "f4d77e9a-d4b7-4869-a6a7-1e707f21b649"
      },
      "outputs": [
        {
          "data": {
            "text/plain": [
              "Churn\n",
              "0    780.402245\n",
              "1    616.737816\n",
              "Name: TotalCharges, dtype: float64"
            ]
          },
          "execution_count": 62,
          "metadata": {},
          "output_type": "execute_result"
        }
      ],
      "source": [
        "df.groupby('Churn')['TotalCharges'].mean()"
      ]
    },
    {
      "cell_type": "code",
      "execution_count": null,
      "metadata": {
        "id": "fxnnP4D6IIxl"
      },
      "outputs": [],
      "source": [
        "iqr = df['TotalCharges'].quantile(0.75) - df['TotalCharges'].quantile(0.25)\n",
        "upper_threshold = df['TotalCharges'].quantile(0.75) + (1.5 * iqr)\n",
        "lower_threshold = df['TotalCharges'].quantile(0.25) - (1.5 * iqr)\n",
        "df['TotalCharges'] =df['TotalCharges'].clip(lower_threshold, upper_threshold)\n"
      ]
    },
    {
      "cell_type": "markdown",
      "metadata": {
        "id": "XzKxPAXcIq6m"
      },
      "source": [
        "## Subcription type"
      ]
    },
    {
      "cell_type": "code",
      "execution_count": null,
      "metadata": {
        "colab": {
          "base_uri": "https://localhost:8080/",
          "height": 226
        },
        "id": "DczTXz6gI17j",
        "outputId": "8fb738fe-1a9c-408d-b2e6-1a58a3ea5fac"
      },
      "outputs": [
        {
          "data": {
            "application/vnd.google.colaboratory.intrinsic+json": {
              "type": "dataframe",
              "variable_name": "df"
            },
            "text/html": [
              "\n",
              "  <div id=\"df-b32bb9f6-d02e-42a8-8006-a35dd26d9276\" class=\"colab-df-container\">\n",
              "    <div>\n",
              "<style scoped>\n",
              "    .dataframe tbody tr th:only-of-type {\n",
              "        vertical-align: middle;\n",
              "    }\n",
              "\n",
              "    .dataframe tbody tr th {\n",
              "        vertical-align: top;\n",
              "    }\n",
              "\n",
              "    .dataframe thead th {\n",
              "        text-align: right;\n",
              "    }\n",
              "</style>\n",
              "<table border=\"1\" class=\"dataframe\">\n",
              "  <thead>\n",
              "    <tr style=\"text-align: right;\">\n",
              "      <th></th>\n",
              "      <th>AccountAge</th>\n",
              "      <th>TotalCharges</th>\n",
              "      <th>SubscriptionType</th>\n",
              "      <th>PaymentMethod</th>\n",
              "      <th>PaperlessBilling</th>\n",
              "      <th>ContentType</th>\n",
              "      <th>MultiDeviceAccess</th>\n",
              "      <th>DeviceRegistered</th>\n",
              "      <th>ViewingHoursPerWeek</th>\n",
              "      <th>AverageViewingDuration</th>\n",
              "      <th>ContentDownloadsPerMonth</th>\n",
              "      <th>GenrePreference</th>\n",
              "      <th>UserRating</th>\n",
              "      <th>SupportTicketsPerMonth</th>\n",
              "      <th>Gender</th>\n",
              "      <th>WatchlistSize</th>\n",
              "      <th>ParentalControl</th>\n",
              "      <th>SubtitlesEnabled</th>\n",
              "      <th>Churn</th>\n",
              "    </tr>\n",
              "  </thead>\n",
              "  <tbody>\n",
              "    <tr>\n",
              "      <th>0</th>\n",
              "      <td>20</td>\n",
              "      <td>221.104302</td>\n",
              "      <td>Premium</td>\n",
              "      <td>Mailed check</td>\n",
              "      <td>No</td>\n",
              "      <td>Both</td>\n",
              "      <td>No</td>\n",
              "      <td>Mobile</td>\n",
              "      <td>36.758104</td>\n",
              "      <td>63.531377</td>\n",
              "      <td>10</td>\n",
              "      <td>Sci-Fi</td>\n",
              "      <td>2.176498</td>\n",
              "      <td>4</td>\n",
              "      <td>Male</td>\n",
              "      <td>3</td>\n",
              "      <td>No</td>\n",
              "      <td>No</td>\n",
              "      <td>0</td>\n",
              "    </tr>\n",
              "    <tr>\n",
              "      <th>1</th>\n",
              "      <td>57</td>\n",
              "      <td>294.986882</td>\n",
              "      <td>Basic</td>\n",
              "      <td>Credit card</td>\n",
              "      <td>Yes</td>\n",
              "      <td>Movies</td>\n",
              "      <td>No</td>\n",
              "      <td>Tablet</td>\n",
              "      <td>32.450568</td>\n",
              "      <td>25.725595</td>\n",
              "      <td>18</td>\n",
              "      <td>Action</td>\n",
              "      <td>3.478632</td>\n",
              "      <td>8</td>\n",
              "      <td>Male</td>\n",
              "      <td>23</td>\n",
              "      <td>No</td>\n",
              "      <td>Yes</td>\n",
              "      <td>0</td>\n",
              "    </tr>\n",
              "    <tr>\n",
              "      <th>2</th>\n",
              "      <td>73</td>\n",
              "      <td>883.785952</td>\n",
              "      <td>Basic</td>\n",
              "      <td>Mailed check</td>\n",
              "      <td>Yes</td>\n",
              "      <td>Movies</td>\n",
              "      <td>No</td>\n",
              "      <td>Computer</td>\n",
              "      <td>7.395160</td>\n",
              "      <td>57.364061</td>\n",
              "      <td>23</td>\n",
              "      <td>Fantasy</td>\n",
              "      <td>4.238824</td>\n",
              "      <td>6</td>\n",
              "      <td>Male</td>\n",
              "      <td>1</td>\n",
              "      <td>Yes</td>\n",
              "      <td>Yes</td>\n",
              "      <td>0</td>\n",
              "    </tr>\n",
              "    <tr>\n",
              "      <th>3</th>\n",
              "      <td>32</td>\n",
              "      <td>232.439774</td>\n",
              "      <td>Basic</td>\n",
              "      <td>Electronic check</td>\n",
              "      <td>No</td>\n",
              "      <td>TV Shows</td>\n",
              "      <td>No</td>\n",
              "      <td>Tablet</td>\n",
              "      <td>27.960389</td>\n",
              "      <td>131.537507</td>\n",
              "      <td>30</td>\n",
              "      <td>Drama</td>\n",
              "      <td>4.276013</td>\n",
              "      <td>2</td>\n",
              "      <td>Male</td>\n",
              "      <td>24</td>\n",
              "      <td>Yes</td>\n",
              "      <td>Yes</td>\n",
              "      <td>0</td>\n",
              "    </tr>\n",
              "    <tr>\n",
              "      <th>4</th>\n",
              "      <td>57</td>\n",
              "      <td>966.325422</td>\n",
              "      <td>Premium</td>\n",
              "      <td>Electronic check</td>\n",
              "      <td>Yes</td>\n",
              "      <td>TV Shows</td>\n",
              "      <td>No</td>\n",
              "      <td>TV</td>\n",
              "      <td>20.083397</td>\n",
              "      <td>45.356653</td>\n",
              "      <td>20</td>\n",
              "      <td>Comedy</td>\n",
              "      <td>3.616170</td>\n",
              "      <td>4</td>\n",
              "      <td>Female</td>\n",
              "      <td>0</td>\n",
              "      <td>No</td>\n",
              "      <td>No</td>\n",
              "      <td>0</td>\n",
              "    </tr>\n",
              "  </tbody>\n",
              "</table>\n",
              "</div>\n",
              "    <div class=\"colab-df-buttons\">\n",
              "\n",
              "  <div class=\"colab-df-container\">\n",
              "    <button class=\"colab-df-convert\" onclick=\"convertToInteractive('df-b32bb9f6-d02e-42a8-8006-a35dd26d9276')\"\n",
              "            title=\"Convert this dataframe to an interactive table.\"\n",
              "            style=\"display:none;\">\n",
              "\n",
              "  <svg xmlns=\"http://www.w3.org/2000/svg\" height=\"24px\" viewBox=\"0 -960 960 960\">\n",
              "    <path d=\"M120-120v-720h720v720H120Zm60-500h600v-160H180v160Zm220 220h160v-160H400v160Zm0 220h160v-160H400v160ZM180-400h160v-160H180v160Zm440 0h160v-160H620v160ZM180-180h160v-160H180v160Zm440 0h160v-160H620v160Z\"/>\n",
              "  </svg>\n",
              "    </button>\n",
              "\n",
              "  <style>\n",
              "    .colab-df-container {\n",
              "      display:flex;\n",
              "      gap: 12px;\n",
              "    }\n",
              "\n",
              "    .colab-df-convert {\n",
              "      background-color: #E8F0FE;\n",
              "      border: none;\n",
              "      border-radius: 50%;\n",
              "      cursor: pointer;\n",
              "      display: none;\n",
              "      fill: #1967D2;\n",
              "      height: 32px;\n",
              "      padding: 0 0 0 0;\n",
              "      width: 32px;\n",
              "    }\n",
              "\n",
              "    .colab-df-convert:hover {\n",
              "      background-color: #E2EBFA;\n",
              "      box-shadow: 0px 1px 2px rgba(60, 64, 67, 0.3), 0px 1px 3px 1px rgba(60, 64, 67, 0.15);\n",
              "      fill: #174EA6;\n",
              "    }\n",
              "\n",
              "    .colab-df-buttons div {\n",
              "      margin-bottom: 4px;\n",
              "    }\n",
              "\n",
              "    [theme=dark] .colab-df-convert {\n",
              "      background-color: #3B4455;\n",
              "      fill: #D2E3FC;\n",
              "    }\n",
              "\n",
              "    [theme=dark] .colab-df-convert:hover {\n",
              "      background-color: #434B5C;\n",
              "      box-shadow: 0px 1px 3px 1px rgba(0, 0, 0, 0.15);\n",
              "      filter: drop-shadow(0px 1px 2px rgba(0, 0, 0, 0.3));\n",
              "      fill: #FFFFFF;\n",
              "    }\n",
              "  </style>\n",
              "\n",
              "    <script>\n",
              "      const buttonEl =\n",
              "        document.querySelector('#df-b32bb9f6-d02e-42a8-8006-a35dd26d9276 button.colab-df-convert');\n",
              "      buttonEl.style.display =\n",
              "        google.colab.kernel.accessAllowed ? 'block' : 'none';\n",
              "\n",
              "      async function convertToInteractive(key) {\n",
              "        const element = document.querySelector('#df-b32bb9f6-d02e-42a8-8006-a35dd26d9276');\n",
              "        const dataTable =\n",
              "          await google.colab.kernel.invokeFunction('convertToInteractive',\n",
              "                                                    [key], {});\n",
              "        if (!dataTable) return;\n",
              "\n",
              "        const docLinkHtml = 'Like what you see? Visit the ' +\n",
              "          '<a target=\"_blank\" href=https://colab.research.google.com/notebooks/data_table.ipynb>data table notebook</a>'\n",
              "          + ' to learn more about interactive tables.';\n",
              "        element.innerHTML = '';\n",
              "        dataTable['output_type'] = 'display_data';\n",
              "        await google.colab.output.renderOutput(dataTable, element);\n",
              "        const docLink = document.createElement('div');\n",
              "        docLink.innerHTML = docLinkHtml;\n",
              "        element.appendChild(docLink);\n",
              "      }\n",
              "    </script>\n",
              "  </div>\n",
              "\n",
              "\n",
              "<div id=\"df-b233aa17-5375-4ab0-9be4-92e81bd6ce1a\">\n",
              "  <button class=\"colab-df-quickchart\" onclick=\"quickchart('df-b233aa17-5375-4ab0-9be4-92e81bd6ce1a')\"\n",
              "            title=\"Suggest charts\"\n",
              "            style=\"display:none;\">\n",
              "\n",
              "<svg xmlns=\"http://www.w3.org/2000/svg\" height=\"24px\"viewBox=\"0 0 24 24\"\n",
              "     width=\"24px\">\n",
              "    <g>\n",
              "        <path d=\"M19 3H5c-1.1 0-2 .9-2 2v14c0 1.1.9 2 2 2h14c1.1 0 2-.9 2-2V5c0-1.1-.9-2-2-2zM9 17H7v-7h2v7zm4 0h-2V7h2v10zm4 0h-2v-4h2v4z\"/>\n",
              "    </g>\n",
              "</svg>\n",
              "  </button>\n",
              "\n",
              "<style>\n",
              "  .colab-df-quickchart {\n",
              "      --bg-color: #E8F0FE;\n",
              "      --fill-color: #1967D2;\n",
              "      --hover-bg-color: #E2EBFA;\n",
              "      --hover-fill-color: #174EA6;\n",
              "      --disabled-fill-color: #AAA;\n",
              "      --disabled-bg-color: #DDD;\n",
              "  }\n",
              "\n",
              "  [theme=dark] .colab-df-quickchart {\n",
              "      --bg-color: #3B4455;\n",
              "      --fill-color: #D2E3FC;\n",
              "      --hover-bg-color: #434B5C;\n",
              "      --hover-fill-color: #FFFFFF;\n",
              "      --disabled-bg-color: #3B4455;\n",
              "      --disabled-fill-color: #666;\n",
              "  }\n",
              "\n",
              "  .colab-df-quickchart {\n",
              "    background-color: var(--bg-color);\n",
              "    border: none;\n",
              "    border-radius: 50%;\n",
              "    cursor: pointer;\n",
              "    display: none;\n",
              "    fill: var(--fill-color);\n",
              "    height: 32px;\n",
              "    padding: 0;\n",
              "    width: 32px;\n",
              "  }\n",
              "\n",
              "  .colab-df-quickchart:hover {\n",
              "    background-color: var(--hover-bg-color);\n",
              "    box-shadow: 0 1px 2px rgba(60, 64, 67, 0.3), 0 1px 3px 1px rgba(60, 64, 67, 0.15);\n",
              "    fill: var(--button-hover-fill-color);\n",
              "  }\n",
              "\n",
              "  .colab-df-quickchart-complete:disabled,\n",
              "  .colab-df-quickchart-complete:disabled:hover {\n",
              "    background-color: var(--disabled-bg-color);\n",
              "    fill: var(--disabled-fill-color);\n",
              "    box-shadow: none;\n",
              "  }\n",
              "\n",
              "  .colab-df-spinner {\n",
              "    border: 2px solid var(--fill-color);\n",
              "    border-color: transparent;\n",
              "    border-bottom-color: var(--fill-color);\n",
              "    animation:\n",
              "      spin 1s steps(1) infinite;\n",
              "  }\n",
              "\n",
              "  @keyframes spin {\n",
              "    0% {\n",
              "      border-color: transparent;\n",
              "      border-bottom-color: var(--fill-color);\n",
              "      border-left-color: var(--fill-color);\n",
              "    }\n",
              "    20% {\n",
              "      border-color: transparent;\n",
              "      border-left-color: var(--fill-color);\n",
              "      border-top-color: var(--fill-color);\n",
              "    }\n",
              "    30% {\n",
              "      border-color: transparent;\n",
              "      border-left-color: var(--fill-color);\n",
              "      border-top-color: var(--fill-color);\n",
              "      border-right-color: var(--fill-color);\n",
              "    }\n",
              "    40% {\n",
              "      border-color: transparent;\n",
              "      border-right-color: var(--fill-color);\n",
              "      border-top-color: var(--fill-color);\n",
              "    }\n",
              "    60% {\n",
              "      border-color: transparent;\n",
              "      border-right-color: var(--fill-color);\n",
              "    }\n",
              "    80% {\n",
              "      border-color: transparent;\n",
              "      border-right-color: var(--fill-color);\n",
              "      border-bottom-color: var(--fill-color);\n",
              "    }\n",
              "    90% {\n",
              "      border-color: transparent;\n",
              "      border-bottom-color: var(--fill-color);\n",
              "    }\n",
              "  }\n",
              "</style>\n",
              "\n",
              "  <script>\n",
              "    async function quickchart(key) {\n",
              "      const quickchartButtonEl =\n",
              "        document.querySelector('#' + key + ' button');\n",
              "      quickchartButtonEl.disabled = true;  // To prevent multiple clicks.\n",
              "      quickchartButtonEl.classList.add('colab-df-spinner');\n",
              "      try {\n",
              "        const charts = await google.colab.kernel.invokeFunction(\n",
              "            'suggestCharts', [key], {});\n",
              "      } catch (error) {\n",
              "        console.error('Error during call to suggestCharts:', error);\n",
              "      }\n",
              "      quickchartButtonEl.classList.remove('colab-df-spinner');\n",
              "      quickchartButtonEl.classList.add('colab-df-quickchart-complete');\n",
              "    }\n",
              "    (() => {\n",
              "      let quickchartButtonEl =\n",
              "        document.querySelector('#df-b233aa17-5375-4ab0-9be4-92e81bd6ce1a button');\n",
              "      quickchartButtonEl.style.display =\n",
              "        google.colab.kernel.accessAllowed ? 'block' : 'none';\n",
              "    })();\n",
              "  </script>\n",
              "</div>\n",
              "\n",
              "    </div>\n",
              "  </div>\n"
            ],
            "text/plain": [
              "   AccountAge  TotalCharges SubscriptionType     PaymentMethod  \\\n",
              "0          20    221.104302          Premium      Mailed check   \n",
              "1          57    294.986882            Basic       Credit card   \n",
              "2          73    883.785952            Basic      Mailed check   \n",
              "3          32    232.439774            Basic  Electronic check   \n",
              "4          57    966.325422          Premium  Electronic check   \n",
              "\n",
              "  PaperlessBilling ContentType MultiDeviceAccess DeviceRegistered  \\\n",
              "0               No        Both                No           Mobile   \n",
              "1              Yes      Movies                No           Tablet   \n",
              "2              Yes      Movies                No         Computer   \n",
              "3               No    TV Shows                No           Tablet   \n",
              "4              Yes    TV Shows                No               TV   \n",
              "\n",
              "   ViewingHoursPerWeek  AverageViewingDuration  ContentDownloadsPerMonth  \\\n",
              "0            36.758104               63.531377                        10   \n",
              "1            32.450568               25.725595                        18   \n",
              "2             7.395160               57.364061                        23   \n",
              "3            27.960389              131.537507                        30   \n",
              "4            20.083397               45.356653                        20   \n",
              "\n",
              "  GenrePreference  UserRating  SupportTicketsPerMonth  Gender  WatchlistSize  \\\n",
              "0          Sci-Fi    2.176498                       4    Male              3   \n",
              "1          Action    3.478632                       8    Male             23   \n",
              "2         Fantasy    4.238824                       6    Male              1   \n",
              "3           Drama    4.276013                       2    Male             24   \n",
              "4          Comedy    3.616170                       4  Female              0   \n",
              "\n",
              "  ParentalControl SubtitlesEnabled  Churn  \n",
              "0              No               No      0  \n",
              "1              No              Yes      0  \n",
              "2             Yes              Yes      0  \n",
              "3             Yes              Yes      0  \n",
              "4              No               No      0  "
            ]
          },
          "execution_count": 65,
          "metadata": {},
          "output_type": "execute_result"
        }
      ],
      "source": [
        "df.head()"
      ]
    },
    {
      "cell_type": "code",
      "execution_count": null,
      "metadata": {
        "colab": {
          "base_uri": "https://localhost:8080/"
        },
        "id": "7U60F-HGIVVI",
        "outputId": "1699ee8f-ab23-4522-861f-bea53f1b6445"
      },
      "outputs": [
        {
          "data": {
            "text/plain": [
              "dtype('O')"
            ]
          },
          "execution_count": 66,
          "metadata": {},
          "output_type": "execute_result"
        }
      ],
      "source": [
        "df['SubscriptionType'].dtypes"
      ]
    },
    {
      "cell_type": "code",
      "execution_count": null,
      "metadata": {
        "colab": {
          "base_uri": "https://localhost:8080/"
        },
        "id": "WN3SaxcCI56S",
        "outputId": "6929a86e-2c02-48ea-a5e8-ceec3322f35d"
      },
      "outputs": [
        {
          "data": {
            "text/plain": [
              "array(['Premium', 'Basic', 'Standard'], dtype=object)"
            ]
          },
          "execution_count": 68,
          "metadata": {},
          "output_type": "execute_result"
        }
      ],
      "source": [
        "df['SubscriptionType'].unique()"
      ]
    },
    {
      "cell_type": "code",
      "execution_count": null,
      "metadata": {
        "colab": {
          "base_uri": "https://localhost:8080/"
        },
        "id": "I3J1lWRbJB4l",
        "outputId": "6c943ef4-963a-464a-f76e-97fde1135389"
      },
      "outputs": [
        {
          "data": {
            "text/plain": [
              "SubscriptionType\n",
              "Basic       0.196521\n",
              "Premium     0.162775\n",
              "Standard    0.184314\n",
              "Name: Churn, dtype: float64"
            ]
          },
          "execution_count": 69,
          "metadata": {},
          "output_type": "execute_result"
        }
      ],
      "source": [
        "df.groupby('SubscriptionType')['Churn'].mean()"
      ]
    },
    {
      "cell_type": "code",
      "execution_count": null,
      "metadata": {
        "colab": {
          "base_uri": "https://localhost:8080/",
          "height": 466
        },
        "id": "Pl0casY2JOfv",
        "outputId": "6346b1d1-6f41-418b-f3f4-ae6dbfba8f2a"
      },
      "outputs": [
        {
          "data": {
            "text/plain": [
              "<Axes: xlabel='SubscriptionType'>"
            ]
          },
          "execution_count": 75,
          "metadata": {},
          "output_type": "execute_result"
        },
        {
          "data": {
            "image/png": "[encoded data removed]",
            "text/plain": [
              "<Figure size 640x480 with 1 Axes>"
            ]
          },
          "metadata": {},
          "output_type": "display_data"
        }
      ],
      "source": [
        "df.groupby('SubscriptionType')['Churn'].mean()[['Basic','Standard','Premium',]].plot()"
      ]
    },
    {
      "cell_type": "code",
      "execution_count": null,
      "metadata": {
        "id": "xysljUefJXyb"
      },
      "outputs": [],
      "source": [
        "df['SubscriptionType'] = df['SubscriptionType'].map({'Basic':3,'Standard':2,'Premium':1})"
      ]
    },
    {
      "cell_type": "code",
      "execution_count": null,
      "metadata": {
        "colab": {
          "base_uri": "https://localhost:8080/"
        },
        "id": "IrrkNmqfJ7p0",
        "outputId": "87e5ba0e-c782-4894-854a-cf251eb30fab"
      },
      "outputs": [
        {
          "data": {
            "text/plain": [
              "array([1, 3, 2])"
            ]
          },
          "execution_count": 77,
          "metadata": {},
          "output_type": "execute_result"
        }
      ],
      "source": [
        "df['SubscriptionType'].unique()"
      ]
    },
    {
      "cell_type": "code",
      "execution_count": null,
      "metadata": {
        "id": "S8JGHyw1J7nI"
      },
      "outputs": [],
      "source": []
    },
    {
      "cell_type": "markdown",
      "metadata": {
        "id": "Zct62DbELA6q"
      },
      "source": [
        "## Payment method"
      ]
    },
    {
      "cell_type": "code",
      "execution_count": null,
      "metadata": {
        "colab": {
          "base_uri": "https://localhost:8080/"
        },
        "id": "keKmdI7fJ7kP",
        "outputId": "d9c8d697-8856-4ff9-f446-413a9f1e7052"
      },
      "outputs": [
        {
          "data": {
            "text/plain": [
              "dtype('O')"
            ]
          },
          "execution_count": 78,
          "metadata": {},
          "output_type": "execute_result"
        }
      ],
      "source": [
        "df['PaymentMethod'].dtype"
      ]
    },
    {
      "cell_type": "code",
      "execution_count": null,
      "metadata": {
        "colab": {
          "base_uri": "https://localhost:8080/"
        },
        "id": "9qI1VjRyJ7hU",
        "outputId": "5c9ef4ab-54e7-4ba4-ab24-a931ceaf6165"
      },
      "outputs": [
        {
          "data": {
            "text/plain": [
              "array(['Mailed check', 'Credit card', 'Electronic check', 'Bank transfer'],\n",
              "      dtype=object)"
            ]
          },
          "execution_count": 80,
          "metadata": {},
          "output_type": "execute_result"
        }
      ],
      "source": [
        "df['PaymentMethod'].unique()"
      ]
    },
    {
      "cell_type": "code",
      "execution_count": null,
      "metadata": {
        "colab": {
          "base_uri": "https://localhost:8080/"
        },
        "id": "Gu48NGzHLPIR",
        "outputId": "97f2ad8c-5ceb-4dd4-fc4b-2bcc54ccb6d5"
      },
      "outputs": [
        {
          "data": {
            "text/plain": [
              "PaymentMethod\n",
              "Bank transfer       0.179269\n",
              "Credit card         0.162251\n",
              "Electronic check    0.192471\n",
              "Mailed check        0.190888\n",
              "Name: Churn, dtype: float64"
            ]
          },
          "execution_count": 82,
          "metadata": {},
          "output_type": "execute_result"
        }
      ],
      "source": [
        "df.groupby('PaymentMethod')['Churn'].mean()"
      ]
    },
    {
      "cell_type": "code",
      "execution_count": null,
      "metadata": {
        "id": "1sVJrHqcLbYZ"
      },
      "outputs": [],
      "source": [
        "del df['PaymentMethod']"
      ]
    },
    {
      "cell_type": "code",
      "execution_count": null,
      "metadata": {
        "id": "atenyoreLqpR"
      },
      "outputs": [],
      "source": []
    },
    {
      "cell_type": "markdown",
      "metadata": {
        "id": "8_7xifeTLruq"
      },
      "source": [
        "## Paperless billing"
      ]
    },
    {
      "cell_type": "code",
      "execution_count": null,
      "metadata": {
        "colab": {
          "base_uri": "https://localhost:8080/"
        },
        "id": "AUyNJz4KLuvf",
        "outputId": "0ebfff4a-0617-4023-8bcf-1408b6654add"
      },
      "outputs": [
        {
          "data": {
            "text/plain": [
              "dtype('O')"
            ]
          },
          "execution_count": 84,
          "metadata": {},
          "output_type": "execute_result"
        }
      ],
      "source": [
        "df['PaperlessBilling'].dtype"
      ]
    },
    {
      "cell_type": "code",
      "execution_count": null,
      "metadata": {
        "colab": {
          "base_uri": "https://localhost:8080/"
        },
        "id": "fA1Cre75LzGT",
        "outputId": "f9ae75c6-e1cb-4b5d-eccd-63ba45678fca"
      },
      "outputs": [
        {
          "data": {
            "text/plain": [
              "array(['No', 'Yes'], dtype=object)"
            ]
          },
          "execution_count": 85,
          "metadata": {},
          "output_type": "execute_result"
        }
      ],
      "source": [
        "df['PaperlessBilling'].unique()"
      ]
    },
    {
      "cell_type": "code",
      "execution_count": null,
      "metadata": {
        "colab": {
          "base_uri": "https://localhost:8080/"
        },
        "id": "nSSkOrWlL3km",
        "outputId": "c13cb4fc-cc27-4f06-c093-1b9ac302616b"
      },
      "outputs": [
        {
          "data": {
            "text/plain": [
              "PaperlessBilling\n",
              "No     0.181587\n",
              "Yes    0.180876\n",
              "Name: Churn, dtype: float64"
            ]
          },
          "execution_count": 86,
          "metadata": {},
          "output_type": "execute_result"
        }
      ],
      "source": [
        "df.groupby('PaperlessBilling')['Churn'].mean()"
      ]
    },
    {
      "cell_type": "code",
      "execution_count": null,
      "metadata": {
        "id": "zz2y5L_aL9cl"
      },
      "outputs": [],
      "source": [
        "del df['PaperlessBilling']"
      ]
    },
    {
      "cell_type": "code",
      "execution_count": null,
      "metadata": {
        "id": "QiJ3JgnWMBYM"
      },
      "outputs": [],
      "source": []
    },
    {
      "cell_type": "markdown",
      "metadata": {
        "id": "rwkDDV_NMCGQ"
      },
      "source": [
        "## Contenttype"
      ]
    },
    {
      "cell_type": "code",
      "execution_count": null,
      "metadata": {
        "colab": {
          "base_uri": "https://localhost:8080/"
        },
        "id": "a_qeuC6FMH2j",
        "outputId": "181377a3-2046-4096-ba29-9f95770dbac4"
      },
      "outputs": [
        {
          "data": {
            "text/plain": [
              "dtype('O')"
            ]
          },
          "execution_count": 89,
          "metadata": {},
          "output_type": "execute_result"
        }
      ],
      "source": [
        "df['ContentType'].dtype"
      ]
    },
    {
      "cell_type": "code",
      "execution_count": null,
      "metadata": {
        "colab": {
          "base_uri": "https://localhost:8080/"
        },
        "id": "2iO3znlGMQVi",
        "outputId": "89bd74bd-81ed-40dc-a3e2-651de1b2b7f6"
      },
      "outputs": [
        {
          "data": {
            "text/plain": [
              "array(['Both', 'Movies', 'TV Shows'], dtype=object)"
            ]
          },
          "execution_count": 90,
          "metadata": {},
          "output_type": "execute_result"
        }
      ],
      "source": [
        "df.ContentType.unique()"
      ]
    },
    {
      "cell_type": "code",
      "execution_count": null,
      "metadata": {
        "colab": {
          "base_uri": "https://localhost:8080/"
        },
        "id": "UIuv2YicMZRN",
        "outputId": "05d25991-d280-4f13-bd2e-d0007a089eb8"
      },
      "outputs": [
        {
          "data": {
            "text/plain": [
              "ContentType\n",
              "Both        0.188470\n",
              "Movies      0.177764\n",
              "TV Shows    0.177398\n",
              "Name: Churn, dtype: float64"
            ]
          },
          "execution_count": 91,
          "metadata": {},
          "output_type": "execute_result"
        }
      ],
      "source": [
        "df.groupby('ContentType')['Churn'].mean()"
      ]
    },
    {
      "cell_type": "code",
      "execution_count": null,
      "metadata": {
        "id": "YgE2n3EuMdDB"
      },
      "outputs": [],
      "source": [
        "df['ContentType'] = df['ContentType'].map({'Both':3, 'Movies':2, 'TV Shows':1})"
      ]
    },
    {
      "cell_type": "code",
      "execution_count": null,
      "metadata": {
        "colab": {
          "base_uri": "https://localhost:8080/"
        },
        "id": "e-87dp5lMl0G",
        "outputId": "9be4a1fa-6417-4b14-c8ea-4808911779e1"
      },
      "outputs": [
        {
          "data": {
            "text/plain": [
              "array([3, 2, 1])"
            ]
          },
          "execution_count": 93,
          "metadata": {},
          "output_type": "execute_result"
        }
      ],
      "source": [
        "df.ContentType.unique()"
      ]
    },
    {
      "cell_type": "code",
      "execution_count": null,
      "metadata": {
        "id": "ZLanNGPrMoTn"
      },
      "outputs": [],
      "source": []
    },
    {
      "cell_type": "markdown",
      "metadata": {
        "id": "ep7jKBdxMusn"
      },
      "source": [
        "## Multiple Device Access"
      ]
    },
    {
      "cell_type": "code",
      "execution_count": null,
      "metadata": {
        "colab": {
          "base_uri": "https://localhost:8080/"
        },
        "id": "DKYZaUIPMxAS",
        "outputId": "0a0bb0b0-4397-4035-ed42-a45a1470f26f"
      },
      "outputs": [
        {
          "data": {
            "text/plain": [
              "dtype('O')"
            ]
          },
          "execution_count": 94,
          "metadata": {},
          "output_type": "execute_result"
        }
      ],
      "source": [
        "df.MultiDeviceAccess.dtype"
      ]
    },
    {
      "cell_type": "code",
      "execution_count": null,
      "metadata": {
        "colab": {
          "base_uri": "https://localhost:8080/"
        },
        "id": "1Q_m_s99M1dX",
        "outputId": "d6d8f4a2-a82b-4fe0-d7a1-c3d0f06c18c3"
      },
      "outputs": [
        {
          "data": {
            "text/plain": [
              "array(['No', 'Yes'], dtype=object)"
            ]
          },
          "execution_count": 95,
          "metadata": {},
          "output_type": "execute_result"
        }
      ],
      "source": [
        "df.MultiDeviceAccess.unique()"
      ]
    },
    {
      "cell_type": "code",
      "execution_count": null,
      "metadata": {
        "colab": {
          "base_uri": "https://localhost:8080/"
        },
        "id": "ELfxRvdcM3kS",
        "outputId": "cba43866-0c64-460f-e92e-4ce4d38279a2"
      },
      "outputs": [
        {
          "data": {
            "text/plain": [
              "MultiDeviceAccess\n",
              "No     0.181727\n",
              "Yes    0.180736\n",
              "Name: Churn, dtype: float64"
            ]
          },
          "execution_count": 96,
          "metadata": {},
          "output_type": "execute_result"
        }
      ],
      "source": [
        "df.groupby('MultiDeviceAccess')['Churn'].mean()"
      ]
    },
    {
      "cell_type": "code",
      "execution_count": null,
      "metadata": {
        "id": "wLujQgWfM8S4"
      },
      "outputs": [],
      "source": [
        "del df['MultiDeviceAccess']"
      ]
    },
    {
      "cell_type": "code",
      "execution_count": null,
      "metadata": {
        "id": "UXQ2HUdzM87C"
      },
      "outputs": [],
      "source": []
    },
    {
      "cell_type": "markdown",
      "metadata": {
        "id": "mOhTRw38M-Tr"
      },
      "source": [
        "## DeviceRegistered"
      ]
    },
    {
      "cell_type": "code",
      "execution_count": null,
      "metadata": {
        "colab": {
          "base_uri": "https://localhost:8080/"
        },
        "id": "qiOhNEG6NCp6",
        "outputId": "356144c5-19b1-43a6-f840-1e015d5f256c"
      },
      "outputs": [
        {
          "data": {
            "text/plain": [
              "dtype('O')"
            ]
          },
          "execution_count": 98,
          "metadata": {},
          "output_type": "execute_result"
        }
      ],
      "source": [
        "df.DeviceRegistered.dtype"
      ]
    },
    {
      "cell_type": "code",
      "execution_count": null,
      "metadata": {
        "colab": {
          "base_uri": "https://localhost:8080/"
        },
        "id": "R-nFBDmnNE1o",
        "outputId": "fb1a586c-1e3c-4e2a-966e-c98995f177ad"
      },
      "outputs": [
        {
          "data": {
            "text/plain": [
              "array(['Mobile', 'Tablet', 'Computer', 'TV'], dtype=object)"
            ]
          },
          "execution_count": 100,
          "metadata": {},
          "output_type": "execute_result"
        }
      ],
      "source": [
        "df.DeviceRegistered.unique()"
      ]
    },
    {
      "cell_type": "code",
      "execution_count": null,
      "metadata": {
        "colab": {
          "base_uri": "https://localhost:8080/"
        },
        "id": "yDEB-RHHNG0b",
        "outputId": "10594280-02f5-400f-f902-fe15f1f2dd87"
      },
      "outputs": [
        {
          "data": {
            "text/plain": [
              "(DeviceRegistered\n",
              " Computer    0.181350\n",
              " Mobile      0.182372\n",
              " TV          0.179044\n",
              " Tablet      0.182147\n",
              " Name: Churn, dtype: float64,\n",
              " DeviceRegistered\n",
              " Computer    0.385311\n",
              " Mobile      0.386154\n",
              " TV          0.383392\n",
              " Tablet      0.385969\n",
              " Name: Churn, dtype: float64)"
            ]
          },
          "execution_count": 101,
          "metadata": {},
          "output_type": "execute_result"
        }
      ],
      "source": [
        "df.groupby('DeviceRegistered')['Churn'].mean(), df.groupby('DeviceRegistered')['Churn'].std()"
      ]
    },
    {
      "cell_type": "code",
      "execution_count": null,
      "metadata": {
        "id": "6MpweoQXNNHA"
      },
      "outputs": [],
      "source": [
        "del df['DeviceRegistered']"
      ]
    },
    {
      "cell_type": "markdown",
      "metadata": {
        "id": "uWipNw9PNSXn"
      },
      "source": [
        "## ViewingHoursPerWeek"
      ]
    },
    {
      "cell_type": "code",
      "execution_count": null,
      "metadata": {
        "colab": {
          "base_uri": "https://localhost:8080/"
        },
        "id": "XOgcFVvmNPeE",
        "outputId": "5ad64b72-798b-45e5-f447-54558b0ec19f"
      },
      "outputs": [
        {
          "data": {
            "text/plain": [
              "dtype('float64')"
            ]
          },
          "execution_count": 103,
          "metadata": {},
          "output_type": "execute_result"
        }
      ],
      "source": [
        "df.ViewingHoursPerWeek.dtype"
      ]
    },
    {
      "cell_type": "code",
      "execution_count": null,
      "metadata": {
        "colab": {
          "base_uri": "https://localhost:8080/"
        },
        "id": "K3HD-jPxNXNr",
        "outputId": "e00ba03e-35c0-4747-eae9-6a14f60e22bd"
      },
      "outputs": [
        {
          "data": {
            "text/plain": [
              "count    243787.000000\n",
              "mean         20.502179\n",
              "std          11.243753\n",
              "min           1.000065\n",
              "25%          10.763953\n",
              "50%          20.523116\n",
              "75%          30.219396\n",
              "max          39.999723\n",
              "Name: ViewingHoursPerWeek, dtype: float64"
            ]
          },
          "execution_count": 104,
          "metadata": {},
          "output_type": "execute_result"
        }
      ],
      "source": [
        "df.ViewingHoursPerWeek.describe()"
      ]
    },
    {
      "cell_type": "code",
      "execution_count": null,
      "metadata": {
        "colab": {
          "base_uri": "https://localhost:8080/"
        },
        "id": "u4cymla2Naew",
        "outputId": "18e9588e-9cb6-4b2f-c45d-fc7dcf80b6c4"
      },
      "outputs": [
        {
          "data": {
            "text/plain": [
              "Churn\n",
              "0    21.182697\n",
              "1    17.427741\n",
              "Name: ViewingHoursPerWeek, dtype: float64"
            ]
          },
          "execution_count": 105,
          "metadata": {},
          "output_type": "execute_result"
        }
      ],
      "source": [
        "df.groupby('Churn')['ViewingHoursPerWeek'].mean()"
      ]
    },
    {
      "cell_type": "code",
      "execution_count": null,
      "metadata": {
        "colab": {
          "base_uri": "https://localhost:8080/"
        },
        "id": "70xJnSeINZhv",
        "outputId": "ecb43c0f-1b91-4aa5-ffb4-7f05b61f0ae1"
      },
      "outputs": [
        {
          "name": "stdout",
          "output_type": "stream",
          "text": [
            "-18.419212297484723 59.40256110709355\n"
          ]
        }
      ],
      "source": [
        "iqr = df['ViewingHoursPerWeek'].quantile(0.75) - df['ViewingHoursPerWeek'].quantile(0.25)\n",
        "upper_threshold = df['ViewingHoursPerWeek'].quantile(0.75) + (1.5 * iqr)\n",
        "lower_threshold = df['ViewingHoursPerWeek'].quantile(0.25) - (1.5 * iqr)\n",
        "print(lower_threshold, upper_threshold)\n",
        "#df['ViewingHoursPerWeek'] = df['ViewingHoursPerWeek'].clip(lower_threshold, upper_threshold)"
      ]
    },
    {
      "cell_type": "code",
      "execution_count": null,
      "metadata": {
        "colab": {
          "base_uri": "https://localhost:8080/"
        },
        "id": "rnMVJ3qqNgcd",
        "outputId": "2d8289d9-5bcc-470d-8b27-f91474d055e7"
      },
      "outputs": [
        {
          "data": {
            "text/plain": [
              "Index(['AccountAge', 'TotalCharges', 'SubscriptionType', 'ContentType',\n",
              "       'ViewingHoursPerWeek', 'AverageViewingDuration',\n",
              "       'ContentDownloadsPerMonth', 'GenrePreference', 'UserRating',\n",
              "       'SupportTicketsPerMonth', 'Gender', 'WatchlistSize', 'ParentalControl',\n",
              "       'SubtitlesEnabled', 'Churn'],\n",
              "      dtype='object')"
            ]
          },
          "execution_count": 107,
          "metadata": {},
          "output_type": "execute_result"
        }
      ],
      "source": [
        "df.columns"
      ]
    },
    {
      "cell_type": "code",
      "execution_count": null,
      "metadata": {
        "id": "TVDuGteLNmYp"
      },
      "outputs": [],
      "source": []
    },
    {
      "cell_type": "markdown",
      "metadata": {
        "id": "3nxjbN-TNoYJ"
      },
      "source": [
        "## AverageViewingDuration"
      ]
    },
    {
      "cell_type": "code",
      "execution_count": null,
      "metadata": {
        "colab": {
          "base_uri": "https://localhost:8080/"
        },
        "id": "jo_7ZGwuNpru",
        "outputId": "89dbd288-ef4b-48de-cb35-2918a11bc3b9"
      },
      "outputs": [
        {
          "data": {
            "text/plain": [
              "dtype('float64')"
            ]
          },
          "execution_count": 108,
          "metadata": {},
          "output_type": "execute_result"
        }
      ],
      "source": [
        "df.AverageViewingDuration.dtype"
      ]
    },
    {
      "cell_type": "code",
      "execution_count": null,
      "metadata": {
        "colab": {
          "base_uri": "https://localhost:8080/"
        },
        "id": "G5qJLu-iNsBC",
        "outputId": "2d86d0bc-2055-47f0-d1be-a0814d2f823f"
      },
      "outputs": [
        {
          "data": {
            "text/plain": [
              "count    243787.000000\n",
              "mean         92.264061\n",
              "std          50.505243\n",
              "min           5.000547\n",
              "25%          48.382395\n",
              "50%          92.249992\n",
              "75%         135.908048\n",
              "max         179.999275\n",
              "Name: AverageViewingDuration, dtype: float64"
            ]
          },
          "execution_count": 109,
          "metadata": {},
          "output_type": "execute_result"
        }
      ],
      "source": [
        "df.AverageViewingDuration.describe()"
      ]
    },
    {
      "cell_type": "code",
      "execution_count": null,
      "metadata": {
        "colab": {
          "base_uri": "https://localhost:8080/"
        },
        "id": "C0dobioKNuLq",
        "outputId": "93760c5a-0f27-479b-b021-94fd990d4a6f"
      },
      "outputs": [
        {
          "data": {
            "text/plain": [
              "Churn\n",
              "0    95.754533\n",
              "1    76.494840\n",
              "Name: AverageViewingDuration, dtype: float64"
            ]
          },
          "execution_count": 110,
          "metadata": {},
          "output_type": "execute_result"
        }
      ],
      "source": [
        "df.groupby('Churn')['AverageViewingDuration'].mean()"
      ]
    },
    {
      "cell_type": "code",
      "execution_count": null,
      "metadata": {
        "colab": {
          "base_uri": "https://localhost:8080/"
        },
        "id": "HjUDzlDzNuQz",
        "outputId": "081ac88d-c28b-492f-e9f5-64bdf8a3b746"
      },
      "outputs": [
        {
          "name": "stdout",
          "output_type": "stream",
          "text": [
            "-82.90608528289064 267.1965276075546\n"
          ]
        }
      ],
      "source": [
        "iqr = df['AverageViewingDuration'].quantile(0.75) - df['AverageViewingDuration'].quantile(0.25)\n",
        "upper_threshold = df['AverageViewingDuration'].quantile(0.75) + (1.5 * iqr)\n",
        "lower_threshold = df['AverageViewingDuration'].quantile(0.25) - (1.5 * iqr)\n",
        "print(lower_threshold, upper_threshold)"
      ]
    },
    {
      "cell_type": "code",
      "execution_count": null,
      "metadata": {
        "id": "LJm3V5E_NuUG"
      },
      "outputs": [],
      "source": []
    },
    {
      "cell_type": "markdown",
      "metadata": {
        "id": "mCxTATeQN2d1"
      },
      "source": [
        "## ContentDownloadsPerMonth"
      ]
    },
    {
      "cell_type": "code",
      "execution_count": null,
      "metadata": {
        "colab": {
          "base_uri": "https://localhost:8080/"
        },
        "id": "a_F5TBOMN3un",
        "outputId": "10f016e1-45eb-4d0a-c488-88d9fea3ced0"
      },
      "outputs": [
        {
          "data": {
            "text/plain": [
              "dtype('int64')"
            ]
          },
          "execution_count": 112,
          "metadata": {},
          "output_type": "execute_result"
        }
      ],
      "source": [
        "df.ContentDownloadsPerMonth.dtype"
      ]
    },
    {
      "cell_type": "code",
      "execution_count": null,
      "metadata": {
        "colab": {
          "base_uri": "https://localhost:8080/"
        },
        "id": "ZsC1h5ACN6DR",
        "outputId": "a5ebae6c-25fa-4b51-a5e4-c55fd6c6b7f5"
      },
      "outputs": [
        {
          "data": {
            "text/plain": [
              "count    243787.000000\n",
              "mean         24.503513\n",
              "std          14.421174\n",
              "min           0.000000\n",
              "25%          12.000000\n",
              "50%          24.000000\n",
              "75%          37.000000\n",
              "max          49.000000\n",
              "Name: ContentDownloadsPerMonth, dtype: float64"
            ]
          },
          "execution_count": 114,
          "metadata": {},
          "output_type": "execute_result"
        }
      ],
      "source": [
        "df.ContentDownloadsPerMonth.describe()"
      ]
    },
    {
      "cell_type": "code",
      "execution_count": null,
      "metadata": {
        "colab": {
          "base_uri": "https://localhost:8080/"
        },
        "id": "qxH4t8YDN8mv",
        "outputId": "638a0fa8-dd84-45c9-d8aa-02cfbc1c6610"
      },
      "outputs": [
        {
          "data": {
            "text/plain": [
              "Churn\n",
              "0    25.383853\n",
              "1    20.526323\n",
              "Name: ContentDownloadsPerMonth, dtype: float64"
            ]
          },
          "execution_count": 115,
          "metadata": {},
          "output_type": "execute_result"
        }
      ],
      "source": [
        "df.groupby('Churn')['ContentDownloadsPerMonth'].mean()"
      ]
    },
    {
      "cell_type": "code",
      "execution_count": null,
      "metadata": {
        "colab": {
          "base_uri": "https://localhost:8080/"
        },
        "id": "bYPNAKx2OAJq",
        "outputId": "f0838bf6-6de6-46ee-e470-841e288d7bd0"
      },
      "outputs": [
        {
          "name": "stdout",
          "output_type": "stream",
          "text": [
            "-25.5 74.5\n"
          ]
        }
      ],
      "source": [
        "iqr = df['ContentDownloadsPerMonth'].quantile(0.75) - df['ContentDownloadsPerMonth'].quantile(0.25)\n",
        "upper_threshold = df['ContentDownloadsPerMonth'].quantile(0.75) + (1.5 * iqr)\n",
        "lower_threshold = df['ContentDownloadsPerMonth'].quantile(0.25) - (1.5 * iqr)\n",
        "print(lower_threshold, upper_threshold)"
      ]
    },
    {
      "cell_type": "code",
      "execution_count": null,
      "metadata": {
        "id": "ESzDmJUZOAUj"
      },
      "outputs": [],
      "source": []
    },
    {
      "cell_type": "markdown",
      "metadata": {
        "id": "FV8IRP-jOEFL"
      },
      "source": [
        "## GenrePreference"
      ]
    },
    {
      "cell_type": "code",
      "execution_count": null,
      "metadata": {
        "colab": {
          "base_uri": "https://localhost:8080/"
        },
        "id": "w8rBjCtVOLJY",
        "outputId": "5665bb7d-e6f7-4a0f-fb33-d577b44a75cd"
      },
      "outputs": [
        {
          "data": {
            "text/plain": [
              "array(['Sci-Fi', 'Action', 'Fantasy', 'Drama', 'Comedy'], dtype=object)"
            ]
          },
          "execution_count": 117,
          "metadata": {},
          "output_type": "execute_result"
        }
      ],
      "source": [
        "df.GenrePreference.unique()"
      ]
    },
    {
      "cell_type": "code",
      "execution_count": null,
      "metadata": {
        "colab": {
          "base_uri": "https://localhost:8080/",
          "height": 466
        },
        "id": "lKvF-fEeOOfH",
        "outputId": "46bd73ea-aab0-4a0e-ff73-a6fea142848f"
      },
      "outputs": [
        {
          "data": {
            "text/plain": [
              "<Axes: xlabel='GenrePreference'>"
            ]
          },
          "execution_count": 118,
          "metadata": {},
          "output_type": "execute_result"
        },
        {
          "data": {
            "image/png": "[encoded data removed]",
            "text/plain": [
              "<Figure size 640x480 with 1 Axes>"
            ]
          },
          "metadata": {},
          "output_type": "display_data"
        }
      ],
      "source": [
        "df.groupby('GenrePreference')['Churn'].mean()[['Action', 'Fantasy', 'Drama', 'Sci-Fi', 'Comedy']].plot()"
      ]
    },
    {
      "cell_type": "code",
      "execution_count": null,
      "metadata": {
        "id": "eMJAuII_Ob8P"
      },
      "outputs": [],
      "source": [
        "df['GenrePreference'] = df['GenrePreference'].map({'Action': 1, 'Fantasy': 2, 'Drama':3 , 'Sci-Fi': 4, 'Comedy': 5})"
      ]
    },
    {
      "cell_type": "code",
      "execution_count": null,
      "metadata": {
        "colab": {
          "base_uri": "https://localhost:8080/"
        },
        "id": "tE-zKWaKOb21",
        "outputId": "5b149146-b2b7-460a-a5f5-de81ada6efe0"
      },
      "outputs": [
        {
          "data": {
            "text/plain": [
              "array([4, 1, 2, 3, 5])"
            ]
          },
          "execution_count": 120,
          "metadata": {},
          "output_type": "execute_result"
        }
      ],
      "source": [
        "df['GenrePreference'].unique()"
      ]
    },
    {
      "cell_type": "code",
      "execution_count": null,
      "metadata": {
        "id": "tcbLTrKuObzx"
      },
      "outputs": [],
      "source": []
    },
    {
      "cell_type": "markdown",
      "metadata": {
        "id": "7uWeCX7iOiEc"
      },
      "source": [
        "## UserRating"
      ]
    },
    {
      "cell_type": "code",
      "execution_count": null,
      "metadata": {
        "colab": {
          "base_uri": "https://localhost:8080/"
        },
        "id": "cSu4Yk_qOmPY",
        "outputId": "d7ed158e-4972-4a7d-8937-dcc97025a905"
      },
      "outputs": [
        {
          "data": {
            "text/plain": [
              "dtype('float64')"
            ]
          },
          "execution_count": 121,
          "metadata": {},
          "output_type": "execute_result"
        }
      ],
      "source": [
        "df.UserRating.dtype"
      ]
    },
    {
      "cell_type": "code",
      "execution_count": null,
      "metadata": {
        "colab": {
          "base_uri": "https://localhost:8080/"
        },
        "id": "GxRYY0ecOnA8",
        "outputId": "570fa1c6-3495-405c-d08b-94d45ffbb82a"
      },
      "outputs": [
        {
          "data": {
            "text/plain": [
              "count    243787.000000\n",
              "mean          3.002713\n",
              "std           1.155259\n",
              "min           1.000007\n",
              "25%           2.000853\n",
              "50%           3.002261\n",
              "75%           4.002157\n",
              "max           4.999989\n",
              "Name: UserRating, dtype: float64"
            ]
          },
          "execution_count": 122,
          "metadata": {},
          "output_type": "execute_result"
        }
      ],
      "source": [
        "df.UserRating.describe()"
      ]
    },
    {
      "cell_type": "code",
      "execution_count": null,
      "metadata": {
        "colab": {
          "base_uri": "https://localhost:8080/"
        },
        "id": "v1bbPfQvOm-M",
        "outputId": "138cb40c-3812-48f5-ef96-57ded0061ee3"
      },
      "outputs": [
        {
          "data": {
            "text/plain": [
              "Churn\n",
              "0    2.990688\n",
              "1    3.057037\n",
              "Name: UserRating, dtype: float64"
            ]
          },
          "execution_count": 123,
          "metadata": {},
          "output_type": "execute_result"
        }
      ],
      "source": [
        "df.groupby('Churn')['UserRating'].mean()"
      ]
    },
    {
      "cell_type": "code",
      "execution_count": null,
      "metadata": {
        "colab": {
          "base_uri": "https://localhost:8080/"
        },
        "id": "t5dyr9cDOm7i",
        "outputId": "5fc2716a-da5d-4d04-8a96-609edfd88e4a"
      },
      "outputs": [
        {
          "name": "stdout",
          "output_type": "stream",
          "text": [
            "-1.0011033867446884 7.004113639054296\n"
          ]
        }
      ],
      "source": [
        "iqr = df['UserRating'].quantile(0.75) - df['UserRating'].quantile(0.25)\n",
        "upper_threshold = df['UserRating'].quantile(0.75) + (1.5 * iqr)\n",
        "lower_threshold = df['UserRating'].quantile(0.25) - (1.5 * iqr)\n",
        "print(lower_threshold, upper_threshold)"
      ]
    },
    {
      "cell_type": "code",
      "execution_count": null,
      "metadata": {
        "id": "pYd1i3YeOm49"
      },
      "outputs": [],
      "source": []
    },
    {
      "cell_type": "code",
      "execution_count": null,
      "metadata": {
        "id": "7H-lWH94Om2O"
      },
      "outputs": [],
      "source": []
    },
    {
      "cell_type": "markdown",
      "metadata": {
        "id": "Giad-H5hOxFk"
      },
      "source": [
        "## SupportTicketsPerMonth"
      ]
    },
    {
      "cell_type": "code",
      "execution_count": null,
      "metadata": {
        "colab": {
          "base_uri": "https://localhost:8080/"
        },
        "id": "UiFJzawjO0kh",
        "outputId": "b4b1ca35-e978-4c47-be89-c69d11036517"
      },
      "outputs": [
        {
          "data": {
            "text/plain": [
              "dtype('int64')"
            ]
          },
          "execution_count": 125,
          "metadata": {},
          "output_type": "execute_result"
        }
      ],
      "source": [
        "df.SupportTicketsPerMonth.dtype"
      ]
    },
    {
      "cell_type": "code",
      "execution_count": null,
      "metadata": {
        "colab": {
          "base_uri": "https://localhost:8080/"
        },
        "id": "q0LYKJYsO1XQ",
        "outputId": "d719d932-4967-4beb-a726-9da9dce2f04e"
      },
      "outputs": [
        {
          "data": {
            "text/plain": [
              "count    243787.000000\n",
              "mean          4.504186\n",
              "std           2.872548\n",
              "min           0.000000\n",
              "25%           2.000000\n",
              "50%           4.000000\n",
              "75%           7.000000\n",
              "max           9.000000\n",
              "Name: SupportTicketsPerMonth, dtype: float64"
            ]
          },
          "execution_count": 126,
          "metadata": {},
          "output_type": "execute_result"
        }
      ],
      "source": [
        "df.SupportTicketsPerMonth.describe()"
      ]
    },
    {
      "cell_type": "code",
      "execution_count": null,
      "metadata": {
        "colab": {
          "base_uri": "https://localhost:8080/"
        },
        "id": "LxY1zE8_O1Tm",
        "outputId": "6e572625-f170-430e-b319-7b413fe5aca7"
      },
      "outputs": [
        {
          "data": {
            "text/plain": [
              "Churn\n",
              "0    4.390576\n",
              "1    5.017451\n",
              "Name: SupportTicketsPerMonth, dtype: float64"
            ]
          },
          "execution_count": 127,
          "metadata": {},
          "output_type": "execute_result"
        }
      ],
      "source": [
        "df.groupby('Churn')['SupportTicketsPerMonth'].mean()"
      ]
    },
    {
      "cell_type": "code",
      "execution_count": null,
      "metadata": {
        "colab": {
          "base_uri": "https://localhost:8080/"
        },
        "id": "FAT1ohBbO1Qv",
        "outputId": "9f010c52-7bf7-48c4-c649-0752df1eff50"
      },
      "outputs": [
        {
          "name": "stdout",
          "output_type": "stream",
          "text": [
            "-5.5 14.5\n"
          ]
        }
      ],
      "source": [
        "iqr = df['SupportTicketsPerMonth'].quantile(0.75) - df['SupportTicketsPerMonth'].quantile(0.25)\n",
        "upper_threshold = df['SupportTicketsPerMonth'].quantile(0.75) + (1.5 * iqr)\n",
        "lower_threshold = df['SupportTicketsPerMonth'].quantile(0.25) - (1.5 * iqr)\n",
        "print(lower_threshold, upper_threshold)"
      ]
    },
    {
      "cell_type": "code",
      "execution_count": null,
      "metadata": {
        "colab": {
          "base_uri": "https://localhost:8080/"
        },
        "id": "uX9Zq_wNO-k-",
        "outputId": "6e843cd3-de92-4b12-8e75-476a082ab757"
      },
      "outputs": [
        {
          "data": {
            "text/plain": [
              "Index(['AccountAge', 'TotalCharges', 'SubscriptionType', 'ContentType',\n",
              "       'ViewingHoursPerWeek', 'AverageViewingDuration',\n",
              "       'ContentDownloadsPerMonth', 'GenrePreference', 'UserRating',\n",
              "       'SupportTicketsPerMonth', 'Gender', 'WatchlistSize', 'ParentalControl',\n",
              "       'SubtitlesEnabled', 'Churn'],\n",
              "      dtype='object')"
            ]
          },
          "execution_count": 129,
          "metadata": {},
          "output_type": "execute_result"
        }
      ],
      "source": [
        "df.columns"
      ]
    },
    {
      "cell_type": "markdown",
      "metadata": {
        "id": "sdoREtpSPB_6"
      },
      "source": [
        "## Gender"
      ]
    },
    {
      "cell_type": "code",
      "execution_count": null,
      "metadata": {
        "colab": {
          "base_uri": "https://localhost:8080/"
        },
        "id": "NmxLeQ9rPBUr",
        "outputId": "6cad3c78-be58-4743-c33a-17392c592b4e"
      },
      "outputs": [
        {
          "data": {
            "text/plain": [
              "dtype('O')"
            ]
          },
          "execution_count": 130,
          "metadata": {},
          "output_type": "execute_result"
        }
      ],
      "source": [
        "df.Gender.dtype"
      ]
    },
    {
      "cell_type": "code",
      "execution_count": null,
      "metadata": {
        "colab": {
          "base_uri": "https://localhost:8080/"
        },
        "id": "uZ7b-G8YPNiG",
        "outputId": "203db3b4-906e-4a60-bdd7-8112b815811c"
      },
      "outputs": [
        {
          "data": {
            "text/plain": [
              "array(['Male', 'Female'], dtype=object)"
            ]
          },
          "execution_count": 131,
          "metadata": {},
          "output_type": "execute_result"
        }
      ],
      "source": [
        "df.Gender.unique()"
      ]
    },
    {
      "cell_type": "code",
      "execution_count": null,
      "metadata": {
        "colab": {
          "base_uri": "https://localhost:8080/"
        },
        "id": "UryEso3APPeF",
        "outputId": "002fc789-57c8-42fe-d0fd-42148f67c0e4"
      },
      "outputs": [
        {
          "data": {
            "text/plain": [
              "Gender\n",
              "Female    0.178356\n",
              "Male      0.184109\n",
              "Name: Churn, dtype: float64"
            ]
          },
          "execution_count": 132,
          "metadata": {},
          "output_type": "execute_result"
        }
      ],
      "source": [
        "df.groupby('Gender')['Churn'].mean()"
      ]
    },
    {
      "cell_type": "code",
      "execution_count": null,
      "metadata": {
        "id": "ycWZQ2mGPRxe"
      },
      "outputs": [],
      "source": [
        "df['Gender'] = df['Gender'].map({'Male': 2, 'Female': 1})"
      ]
    },
    {
      "cell_type": "code",
      "execution_count": null,
      "metadata": {
        "colab": {
          "base_uri": "https://localhost:8080/"
        },
        "id": "baudaU2kPUGI",
        "outputId": "74fd2099-64ff-4a96-8a0c-b102668153e7"
      },
      "outputs": [
        {
          "data": {
            "text/plain": [
              "array([2, 1])"
            ]
          },
          "execution_count": 134,
          "metadata": {},
          "output_type": "execute_result"
        }
      ],
      "source": [
        "df['Gender'].unique()"
      ]
    },
    {
      "cell_type": "code",
      "execution_count": null,
      "metadata": {
        "id": "zNtxkfEwPWKr"
      },
      "outputs": [],
      "source": []
    },
    {
      "cell_type": "markdown",
      "metadata": {
        "id": "Sflgr-iyPWwo"
      },
      "source": [
        "## WatchlistSize"
      ]
    },
    {
      "cell_type": "code",
      "execution_count": null,
      "metadata": {
        "colab": {
          "base_uri": "https://localhost:8080/"
        },
        "id": "kWsgIxC2Pa0-",
        "outputId": "f3be2354-3167-4d1e-9984-abcd3dbcce51"
      },
      "outputs": [
        {
          "data": {
            "text/plain": [
              "dtype('int64')"
            ]
          },
          "execution_count": 135,
          "metadata": {},
          "output_type": "execute_result"
        }
      ],
      "source": [
        "df.WatchlistSize.dtype"
      ]
    },
    {
      "cell_type": "code",
      "execution_count": null,
      "metadata": {
        "colab": {
          "base_uri": "https://localhost:8080/"
        },
        "id": "T_xpQajPPc69",
        "outputId": "3f8420a4-fe48-483f-f9c0-e61efa9dc43f"
      },
      "outputs": [
        {
          "data": {
            "text/plain": [
              "count    243787.000000\n",
              "mean         12.018508\n",
              "std           7.193034\n",
              "min           0.000000\n",
              "25%           6.000000\n",
              "50%          12.000000\n",
              "75%          18.000000\n",
              "max          24.000000\n",
              "Name: WatchlistSize, dtype: float64"
            ]
          },
          "execution_count": 136,
          "metadata": {},
          "output_type": "execute_result"
        }
      ],
      "source": [
        "df.WatchlistSize.describe()"
      ]
    },
    {
      "cell_type": "code",
      "execution_count": null,
      "metadata": {
        "colab": {
          "base_uri": "https://localhost:8080/"
        },
        "id": "3YkZEZmbPfFe",
        "outputId": "5c7459b9-d03d-44c2-e380-2d37581b3b37"
      },
      "outputs": [
        {
          "data": {
            "text/plain": [
              "Churn\n",
              "0    11.944941\n",
              "1    12.350867\n",
              "Name: WatchlistSize, dtype: float64"
            ]
          },
          "execution_count": 137,
          "metadata": {},
          "output_type": "execute_result"
        }
      ],
      "source": [
        "df.groupby('Churn')['WatchlistSize'].mean()"
      ]
    },
    {
      "cell_type": "code",
      "execution_count": null,
      "metadata": {
        "colab": {
          "base_uri": "https://localhost:8080/"
        },
        "id": "SBz1cwIkPhcN",
        "outputId": "522daaeb-a597-4fcf-b49b-784785f564ff"
      },
      "outputs": [
        {
          "name": "stdout",
          "output_type": "stream",
          "text": [
            "-12.0 36.0\n"
          ]
        }
      ],
      "source": [
        "iqr = df['WatchlistSize'].quantile(0.75) - df['WatchlistSize'].quantile(0.25)\n",
        "upper_threshold = df['WatchlistSize'].quantile(0.75) + (1.5 * iqr)\n",
        "lower_threshold = df['WatchlistSize'].quantile(0.25) - (1.5 * iqr)\n",
        "print(lower_threshold, upper_threshold)"
      ]
    },
    {
      "cell_type": "code",
      "execution_count": null,
      "metadata": {
        "id": "-mBbCjUZPjfp"
      },
      "outputs": [],
      "source": []
    },
    {
      "cell_type": "markdown",
      "metadata": {
        "id": "G0Dvw4wDPkFI"
      },
      "source": [
        "## ParentalControl"
      ]
    },
    {
      "cell_type": "code",
      "execution_count": null,
      "metadata": {
        "colab": {
          "base_uri": "https://localhost:8080/"
        },
        "id": "2egkbencPoPD",
        "outputId": "2ac9b856-4977-46f5-a7a7-8e7befa800ed"
      },
      "outputs": [
        {
          "data": {
            "text/plain": [
              "dtype('O')"
            ]
          },
          "execution_count": 139,
          "metadata": {},
          "output_type": "execute_result"
        }
      ],
      "source": [
        "df.ParentalControl.dtype"
      ]
    },
    {
      "cell_type": "code",
      "execution_count": null,
      "metadata": {
        "colab": {
          "base_uri": "https://localhost:8080/"
        },
        "id": "4yhVQEnIPodE",
        "outputId": "b5fbe921-ba74-4963-bceb-ac8b7cd3bff5"
      },
      "outputs": [
        {
          "data": {
            "text/plain": [
              "array(['No', 'Yes'], dtype=object)"
            ]
          },
          "execution_count": 140,
          "metadata": {},
          "output_type": "execute_result"
        }
      ],
      "source": [
        "df.ParentalControl.unique()"
      ]
    },
    {
      "cell_type": "code",
      "execution_count": null,
      "metadata": {
        "colab": {
          "base_uri": "https://localhost:8080/"
        },
        "id": "f0uFb1iFPoYx",
        "outputId": "48c17437-a7ac-4ce2-f000-cd467954d80e"
      },
      "outputs": [
        {
          "data": {
            "text/plain": [
              "ParentalControl\n",
              "No     0.183366\n",
              "Yes    0.179105\n",
              "Name: Churn, dtype: float64"
            ]
          },
          "execution_count": 141,
          "metadata": {},
          "output_type": "execute_result"
        }
      ],
      "source": [
        "df.groupby('ParentalControl')['Churn'].mean()"
      ]
    },
    {
      "cell_type": "code",
      "execution_count": null,
      "metadata": {
        "id": "BT-BcIANPoUy"
      },
      "outputs": [],
      "source": [
        "del df['ParentalControl']"
      ]
    },
    {
      "cell_type": "code",
      "execution_count": null,
      "metadata": {
        "id": "-8e9O3ZQPoSC"
      },
      "outputs": [],
      "source": []
    },
    {
      "cell_type": "markdown",
      "metadata": {
        "id": "8dd71K7mPzIA"
      },
      "source": [
        "## SubtitlesEnabled"
      ]
    },
    {
      "cell_type": "code",
      "execution_count": null,
      "metadata": {
        "colab": {
          "base_uri": "https://localhost:8080/"
        },
        "id": "Ue4fxmw0P2oQ",
        "outputId": "ce87f2af-1af7-4da2-bcfe-e66604dfe412"
      },
      "outputs": [
        {
          "data": {
            "text/plain": [
              "dtype('O')"
            ]
          },
          "execution_count": 143,
          "metadata": {},
          "output_type": "execute_result"
        }
      ],
      "source": [
        "df.SubtitlesEnabled.dtype"
      ]
    },
    {
      "cell_type": "code",
      "execution_count": null,
      "metadata": {
        "colab": {
          "base_uri": "https://localhost:8080/"
        },
        "id": "Zp8lV0rCP3YH",
        "outputId": "152ddd60-cdda-409a-e898-a05091ad6a4c"
      },
      "outputs": [
        {
          "data": {
            "text/plain": [
              "array(['No', 'Yes'], dtype=object)"
            ]
          },
          "execution_count": 144,
          "metadata": {},
          "output_type": "execute_result"
        }
      ],
      "source": [
        "df.SubtitlesEnabled.unique()"
      ]
    },
    {
      "cell_type": "code",
      "execution_count": null,
      "metadata": {
        "colab": {
          "base_uri": "https://localhost:8080/"
        },
        "id": "Q54t0dRkP3Vz",
        "outputId": "6837716f-a5a7-46c9-e500-f5c816d192a3"
      },
      "outputs": [
        {
          "data": {
            "text/plain": [
              "SubtitlesEnabled\n",
              "No     0.186009\n",
              "Yes    0.176477\n",
              "Name: Churn, dtype: float64"
            ]
          },
          "execution_count": 145,
          "metadata": {},
          "output_type": "execute_result"
        }
      ],
      "source": [
        "df.groupby('SubtitlesEnabled')['Churn'].mean()"
      ]
    },
    {
      "cell_type": "code",
      "execution_count": null,
      "metadata": {
        "id": "44Eb4vSeP3TE"
      },
      "outputs": [],
      "source": [
        "df['SubtitlesEnabled'] = df['SubtitlesEnabled'].map({'Yes':0, 'No':1})"
      ]
    },
    {
      "cell_type": "code",
      "execution_count": null,
      "metadata": {
        "id": "OEiP5hTLP3QS"
      },
      "outputs": [],
      "source": []
    },
    {
      "cell_type": "markdown",
      "metadata": {
        "id": "q4VKR99hQCQG"
      },
      "source": [
        "## Churn"
      ]
    },
    {
      "cell_type": "code",
      "execution_count": null,
      "metadata": {
        "colab": {
          "base_uri": "https://localhost:8080/"
        },
        "id": "ZcFhztUFQFuP",
        "outputId": "b4f2341f-6657-4365-995c-6daa71af6891"
      },
      "outputs": [
        {
          "data": {
            "text/plain": [
              "Churn\n",
              "0    0.818768\n",
              "1    0.181232\n",
              "Name: count, dtype: float64"
            ]
          },
          "execution_count": 147,
          "metadata": {},
          "output_type": "execute_result"
        }
      ],
      "source": [
        "df.Churn.value_counts() / df.shape[0]"
      ]
    },
    {
      "cell_type": "code",
      "execution_count": null,
      "metadata": {
        "colab": {
          "base_uri": "https://localhost:8080/",
          "height": 443
        },
        "id": "NOTUOGNzQIR_",
        "outputId": "18c779f8-6715-45c3-8579-fb0ec9a03950"
      },
      "outputs": [
        {
          "data": {
            "application/vnd.google.colaboratory.intrinsic+json": {
              "type": "dataframe",
              "variable_name": "df"
            },
            "text/html": [
              "\n",
              "  <div id=\"df-b46812aa-e4bf-4b36-b07d-53e6dcd183c1\" class=\"colab-df-container\">\n",
              "    <div>\n",
              "<style scoped>\n",
              "    .dataframe tbody tr th:only-of-type {\n",
              "        vertical-align: middle;\n",
              "    }\n",
              "\n",
              "    .dataframe tbody tr th {\n",
              "        vertical-align: top;\n",
              "    }\n",
              "\n",
              "    .dataframe thead th {\n",
              "        text-align: right;\n",
              "    }\n",
              "</style>\n",
              "<table border=\"1\" class=\"dataframe\">\n",
              "  <thead>\n",
              "    <tr style=\"text-align: right;\">\n",
              "      <th></th>\n",
              "      <th>AccountAge</th>\n",
              "      <th>TotalCharges</th>\n",
              "      <th>SubscriptionType</th>\n",
              "      <th>ContentType</th>\n",
              "      <th>ViewingHoursPerWeek</th>\n",
              "      <th>AverageViewingDuration</th>\n",
              "      <th>ContentDownloadsPerMonth</th>\n",
              "      <th>GenrePreference</th>\n",
              "      <th>UserRating</th>\n",
              "      <th>SupportTicketsPerMonth</th>\n",
              "      <th>Gender</th>\n",
              "      <th>WatchlistSize</th>\n",
              "      <th>SubtitlesEnabled</th>\n",
              "      <th>Churn</th>\n",
              "    </tr>\n",
              "  </thead>\n",
              "  <tbody>\n",
              "    <tr>\n",
              "      <th>0</th>\n",
              "      <td>20</td>\n",
              "      <td>221.104302</td>\n",
              "      <td>1</td>\n",
              "      <td>3</td>\n",
              "      <td>36.758104</td>\n",
              "      <td>63.531377</td>\n",
              "      <td>10</td>\n",
              "      <td>4</td>\n",
              "      <td>2.176498</td>\n",
              "      <td>4</td>\n",
              "      <td>2</td>\n",
              "      <td>3</td>\n",
              "      <td>1</td>\n",
              "      <td>0</td>\n",
              "    </tr>\n",
              "    <tr>\n",
              "      <th>1</th>\n",
              "      <td>57</td>\n",
              "      <td>294.986882</td>\n",
              "      <td>3</td>\n",
              "      <td>2</td>\n",
              "      <td>32.450568</td>\n",
              "      <td>25.725595</td>\n",
              "      <td>18</td>\n",
              "      <td>1</td>\n",
              "      <td>3.478632</td>\n",
              "      <td>8</td>\n",
              "      <td>2</td>\n",
              "      <td>23</td>\n",
              "      <td>0</td>\n",
              "      <td>0</td>\n",
              "    </tr>\n",
              "    <tr>\n",
              "      <th>2</th>\n",
              "      <td>73</td>\n",
              "      <td>883.785952</td>\n",
              "      <td>3</td>\n",
              "      <td>2</td>\n",
              "      <td>7.395160</td>\n",
              "      <td>57.364061</td>\n",
              "      <td>23</td>\n",
              "      <td>2</td>\n",
              "      <td>4.238824</td>\n",
              "      <td>6</td>\n",
              "      <td>2</td>\n",
              "      <td>1</td>\n",
              "      <td>0</td>\n",
              "      <td>0</td>\n",
              "    </tr>\n",
              "    <tr>\n",
              "      <th>3</th>\n",
              "      <td>32</td>\n",
              "      <td>232.439774</td>\n",
              "      <td>3</td>\n",
              "      <td>1</td>\n",
              "      <td>27.960389</td>\n",
              "      <td>131.537507</td>\n",
              "      <td>30</td>\n",
              "      <td>3</td>\n",
              "      <td>4.276013</td>\n",
              "      <td>2</td>\n",
              "      <td>2</td>\n",
              "      <td>24</td>\n",
              "      <td>0</td>\n",
              "      <td>0</td>\n",
              "    </tr>\n",
              "    <tr>\n",
              "      <th>4</th>\n",
              "      <td>57</td>\n",
              "      <td>966.325422</td>\n",
              "      <td>1</td>\n",
              "      <td>1</td>\n",
              "      <td>20.083397</td>\n",
              "      <td>45.356653</td>\n",
              "      <td>20</td>\n",
              "      <td>5</td>\n",
              "      <td>3.616170</td>\n",
              "      <td>4</td>\n",
              "      <td>1</td>\n",
              "      <td>0</td>\n",
              "      <td>1</td>\n",
              "      <td>0</td>\n",
              "    </tr>\n",
              "    <tr>\n",
              "      <th>...</th>\n",
              "      <td>...</td>\n",
              "      <td>...</td>\n",
              "      <td>...</td>\n",
              "      <td>...</td>\n",
              "      <td>...</td>\n",
              "      <td>...</td>\n",
              "      <td>...</td>\n",
              "      <td>...</td>\n",
              "      <td>...</td>\n",
              "      <td>...</td>\n",
              "      <td>...</td>\n",
              "      <td>...</td>\n",
              "      <td>...</td>\n",
              "      <td>...</td>\n",
              "    </tr>\n",
              "    <tr>\n",
              "      <th>243782</th>\n",
              "      <td>77</td>\n",
              "      <td>742.272460</td>\n",
              "      <td>3</td>\n",
              "      <td>2</td>\n",
              "      <td>13.502729</td>\n",
              "      <td>80.367312</td>\n",
              "      <td>47</td>\n",
              "      <td>4</td>\n",
              "      <td>3.697451</td>\n",
              "      <td>1</td>\n",
              "      <td>2</td>\n",
              "      <td>8</td>\n",
              "      <td>1</td>\n",
              "      <td>0</td>\n",
              "    </tr>\n",
              "    <tr>\n",
              "      <th>243783</th>\n",
              "      <td>117</td>\n",
              "      <td>1526.763053</td>\n",
              "      <td>1</td>\n",
              "      <td>1</td>\n",
              "      <td>24.963291</td>\n",
              "      <td>59.818441</td>\n",
              "      <td>35</td>\n",
              "      <td>5</td>\n",
              "      <td>1.449742</td>\n",
              "      <td>4</td>\n",
              "      <td>2</td>\n",
              "      <td>20</td>\n",
              "      <td>1</td>\n",
              "      <td>0</td>\n",
              "    </tr>\n",
              "    <tr>\n",
              "      <th>243784</th>\n",
              "      <td>113</td>\n",
              "      <td>1640.146267</td>\n",
              "      <td>1</td>\n",
              "      <td>1</td>\n",
              "      <td>10.628728</td>\n",
              "      <td>176.186095</td>\n",
              "      <td>44</td>\n",
              "      <td>1</td>\n",
              "      <td>4.012217</td>\n",
              "      <td>6</td>\n",
              "      <td>2</td>\n",
              "      <td>13</td>\n",
              "      <td>0</td>\n",
              "      <td>0</td>\n",
              "    </tr>\n",
              "    <tr>\n",
              "      <th>243785</th>\n",
              "      <td>7</td>\n",
              "      <td>126.983887</td>\n",
              "      <td>1</td>\n",
              "      <td>1</td>\n",
              "      <td>30.466782</td>\n",
              "      <td>153.386315</td>\n",
              "      <td>36</td>\n",
              "      <td>2</td>\n",
              "      <td>2.135789</td>\n",
              "      <td>7</td>\n",
              "      <td>1</td>\n",
              "      <td>5</td>\n",
              "      <td>0</td>\n",
              "      <td>0</td>\n",
              "    </tr>\n",
              "    <tr>\n",
              "      <th>243786</th>\n",
              "      <td>90</td>\n",
              "      <td>1043.439704</td>\n",
              "      <td>1</td>\n",
              "      <td>3</td>\n",
              "      <td>24.972537</td>\n",
              "      <td>84.824498</td>\n",
              "      <td>11</td>\n",
              "      <td>1</td>\n",
              "      <td>1.428896</td>\n",
              "      <td>3</td>\n",
              "      <td>1</td>\n",
              "      <td>1</td>\n",
              "      <td>1</td>\n",
              "      <td>0</td>\n",
              "    </tr>\n",
              "  </tbody>\n",
              "</table>\n",
              "<p>243787 rows × 14 columns</p>\n",
              "</div>\n",
              "    <div class=\"colab-df-buttons\">\n",
              "\n",
              "  <div class=\"colab-df-container\">\n",
              "    <button class=\"colab-df-convert\" onclick=\"convertToInteractive('df-b46812aa-e4bf-4b36-b07d-53e6dcd183c1')\"\n",
              "            title=\"Convert this dataframe to an interactive table.\"\n",
              "            style=\"display:none;\">\n",
              "\n",
              "  <svg xmlns=\"http://www.w3.org/2000/svg\" height=\"24px\" viewBox=\"0 -960 960 960\">\n",
              "    <path d=\"M120-120v-720h720v720H120Zm60-500h600v-160H180v160Zm220 220h160v-160H400v160Zm0 220h160v-160H400v160ZM180-400h160v-160H180v160Zm440 0h160v-160H620v160ZM180-180h160v-160H180v160Zm440 0h160v-160H620v160Z\"/>\n",
              "  </svg>\n",
              "    </button>\n",
              "\n",
              "  <style>\n",
              "    .colab-df-container {\n",
              "      display:flex;\n",
              "      gap: 12px;\n",
              "    }\n",
              "\n",
              "    .colab-df-convert {\n",
              "      background-color: #E8F0FE;\n",
              "      border: none;\n",
              "      border-radius: 50%;\n",
              "      cursor: pointer;\n",
              "      display: none;\n",
              "      fill: #1967D2;\n",
              "      height: 32px;\n",
              "      padding: 0 0 0 0;\n",
              "      width: 32px;\n",
              "    }\n",
              "\n",
              "    .colab-df-convert:hover {\n",
              "      background-color: #E2EBFA;\n",
              "      box-shadow: 0px 1px 2px rgba(60, 64, 67, 0.3), 0px 1px 3px 1px rgba(60, 64, 67, 0.15);\n",
              "      fill: #174EA6;\n",
              "    }\n",
              "\n",
              "    .colab-df-buttons div {\n",
              "      margin-bottom: 4px;\n",
              "    }\n",
              "\n",
              "    [theme=dark] .colab-df-convert {\n",
              "      background-color: #3B4455;\n",
              "      fill: #D2E3FC;\n",
              "    }\n",
              "\n",
              "    [theme=dark] .colab-df-convert:hover {\n",
              "      background-color: #434B5C;\n",
              "      box-shadow: 0px 1px 3px 1px rgba(0, 0, 0, 0.15);\n",
              "      filter: drop-shadow(0px 1px 2px rgba(0, 0, 0, 0.3));\n",
              "      fill: #FFFFFF;\n",
              "    }\n",
              "  </style>\n",
              "\n",
              "    <script>\n",
              "      const buttonEl =\n",
              "        document.querySelector('#df-b46812aa-e4bf-4b36-b07d-53e6dcd183c1 button.colab-df-convert');\n",
              "      buttonEl.style.display =\n",
              "        google.colab.kernel.accessAllowed ? 'block' : 'none';\n",
              "\n",
              "      async function convertToInteractive(key) {\n",
              "        const element = document.querySelector('#df-b46812aa-e4bf-4b36-b07d-53e6dcd183c1');\n",
              "        const dataTable =\n",
              "          await google.colab.kernel.invokeFunction('convertToInteractive',\n",
              "                                                    [key], {});\n",
              "        if (!dataTable) return;\n",
              "\n",
              "        const docLinkHtml = 'Like what you see? Visit the ' +\n",
              "          '<a target=\"_blank\" href=https://colab.research.google.com/notebooks/data_table.ipynb>data table notebook</a>'\n",
              "          + ' to learn more about interactive tables.';\n",
              "        element.innerHTML = '';\n",
              "        dataTable['output_type'] = 'display_data';\n",
              "        await google.colab.output.renderOutput(dataTable, element);\n",
              "        const docLink = document.createElement('div');\n",
              "        docLink.innerHTML = docLinkHtml;\n",
              "        element.appendChild(docLink);\n",
              "      }\n",
              "    </script>\n",
              "  </div>\n",
              "\n",
              "\n",
              "<div id=\"df-4a10b3ae-57a8-4fc1-ac21-e72617d7af18\">\n",
              "  <button class=\"colab-df-quickchart\" onclick=\"quickchart('df-4a10b3ae-57a8-4fc1-ac21-e72617d7af18')\"\n",
              "            title=\"Suggest charts\"\n",
              "            style=\"display:none;\">\n",
              "\n",
              "<svg xmlns=\"http://www.w3.org/2000/svg\" height=\"24px\"viewBox=\"0 0 24 24\"\n",
              "     width=\"24px\">\n",
              "    <g>\n",
              "        <path d=\"M19 3H5c-1.1 0-2 .9-2 2v14c0 1.1.9 2 2 2h14c1.1 0 2-.9 2-2V5c0-1.1-.9-2-2-2zM9 17H7v-7h2v7zm4 0h-2V7h2v10zm4 0h-2v-4h2v4z\"/>\n",
              "    </g>\n",
              "</svg>\n",
              "  </button>\n",
              "\n",
              "<style>\n",
              "  .colab-df-quickchart {\n",
              "      --bg-color: #E8F0FE;\n",
              "      --fill-color: #1967D2;\n",
              "      --hover-bg-color: #E2EBFA;\n",
              "      --hover-fill-color: #174EA6;\n",
              "      --disabled-fill-color: #AAA;\n",
              "      --disabled-bg-color: #DDD;\n",
              "  }\n",
              "\n",
              "  [theme=dark] .colab-df-quickchart {\n",
              "      --bg-color: #3B4455;\n",
              "      --fill-color: #D2E3FC;\n",
              "      --hover-bg-color: #434B5C;\n",
              "      --hover-fill-color: #FFFFFF;\n",
              "      --disabled-bg-color: #3B4455;\n",
              "      --disabled-fill-color: #666;\n",
              "  }\n",
              "\n",
              "  .colab-df-quickchart {\n",
              "    background-color: var(--bg-color);\n",
              "    border: none;\n",
              "    border-radius: 50%;\n",
              "    cursor: pointer;\n",
              "    display: none;\n",
              "    fill: var(--fill-color);\n",
              "    height: 32px;\n",
              "    padding: 0;\n",
              "    width: 32px;\n",
              "  }\n",
              "\n",
              "  .colab-df-quickchart:hover {\n",
              "    background-color: var(--hover-bg-color);\n",
              "    box-shadow: 0 1px 2px rgba(60, 64, 67, 0.3), 0 1px 3px 1px rgba(60, 64, 67, 0.15);\n",
              "    fill: var(--button-hover-fill-color);\n",
              "  }\n",
              "\n",
              "  .colab-df-quickchart-complete:disabled,\n",
              "  .colab-df-quickchart-complete:disabled:hover {\n",
              "    background-color: var(--disabled-bg-color);\n",
              "    fill: var(--disabled-fill-color);\n",
              "    box-shadow: none;\n",
              "  }\n",
              "\n",
              "  .colab-df-spinner {\n",
              "    border: 2px solid var(--fill-color);\n",
              "    border-color: transparent;\n",
              "    border-bottom-color: var(--fill-color);\n",
              "    animation:\n",
              "      spin 1s steps(1) infinite;\n",
              "  }\n",
              "\n",
              "  @keyframes spin {\n",
              "    0% {\n",
              "      border-color: transparent;\n",
              "      border-bottom-color: var(--fill-color);\n",
              "      border-left-color: var(--fill-color);\n",
              "    }\n",
              "    20% {\n",
              "      border-color: transparent;\n",
              "      border-left-color: var(--fill-color);\n",
              "      border-top-color: var(--fill-color);\n",
              "    }\n",
              "    30% {\n",
              "      border-color: transparent;\n",
              "      border-left-color: var(--fill-color);\n",
              "      border-top-color: var(--fill-color);\n",
              "      border-right-color: var(--fill-color);\n",
              "    }\n",
              "    40% {\n",
              "      border-color: transparent;\n",
              "      border-right-color: var(--fill-color);\n",
              "      border-top-color: var(--fill-color);\n",
              "    }\n",
              "    60% {\n",
              "      border-color: transparent;\n",
              "      border-right-color: var(--fill-color);\n",
              "    }\n",
              "    80% {\n",
              "      border-color: transparent;\n",
              "      border-right-color: var(--fill-color);\n",
              "      border-bottom-color: var(--fill-color);\n",
              "    }\n",
              "    90% {\n",
              "      border-color: transparent;\n",
              "      border-bottom-color: var(--fill-color);\n",
              "    }\n",
              "  }\n",
              "</style>\n",
              "\n",
              "  <script>\n",
              "    async function quickchart(key) {\n",
              "      const quickchartButtonEl =\n",
              "        document.querySelector('#' + key + ' button');\n",
              "      quickchartButtonEl.disabled = true;  // To prevent multiple clicks.\n",
              "      quickchartButtonEl.classList.add('colab-df-spinner');\n",
              "      try {\n",
              "        const charts = await google.colab.kernel.invokeFunction(\n",
              "            'suggestCharts', [key], {});\n",
              "      } catch (error) {\n",
              "        console.error('Error during call to suggestCharts:', error);\n",
              "      }\n",
              "      quickchartButtonEl.classList.remove('colab-df-spinner');\n",
              "      quickchartButtonEl.classList.add('colab-df-quickchart-complete');\n",
              "    }\n",
              "    (() => {\n",
              "      let quickchartButtonEl =\n",
              "        document.querySelector('#df-4a10b3ae-57a8-4fc1-ac21-e72617d7af18 button');\n",
              "      quickchartButtonEl.style.display =\n",
              "        google.colab.kernel.accessAllowed ? 'block' : 'none';\n",
              "    })();\n",
              "  </script>\n",
              "</div>\n",
              "\n",
              "  <div id=\"id_c8ed9960-68b9-4a63-9fd6-7149917d758b\">\n",
              "    <style>\n",
              "      .colab-df-generate {\n",
              "        background-color: #E8F0FE;\n",
              "        border: none;\n",
              "        border-radius: 50%;\n",
              "        cursor: pointer;\n",
              "        display: none;\n",
              "        fill: #1967D2;\n",
              "        height: 32px;\n",
              "        padding: 0 0 0 0;\n",
              "        width: 32px;\n",
              "      }\n",
              "\n",
              "      .colab-df-generate:hover {\n",
              "        background-color: #E2EBFA;\n",
              "        box-shadow: 0px 1px 2px rgba(60, 64, 67, 0.3), 0px 1px 3px 1px rgba(60, 64, 67, 0.15);\n",
              "        fill: #174EA6;\n",
              "      }\n",
              "\n",
              "      [theme=dark] .colab-df-generate {\n",
              "        background-color: #3B4455;\n",
              "        fill: #D2E3FC;\n",
              "      }\n",
              "\n",
              "      [theme=dark] .colab-df-generate:hover {\n",
              "        background-color: #434B5C;\n",
              "        box-shadow: 0px 1px 3px 1px rgba(0, 0, 0, 0.15);\n",
              "        filter: drop-shadow(0px 1px 2px rgba(0, 0, 0, 0.3));\n",
              "        fill: #FFFFFF;\n",
              "      }\n",
              "    </style>\n",
              "    <button class=\"colab-df-generate\" onclick=\"generateWithVariable('df')\"\n",
              "            title=\"Generate code using this dataframe.\"\n",
              "            style=\"display:none;\">\n",
              "\n",
              "  <svg xmlns=\"http://www.w3.org/2000/svg\" height=\"24px\"viewBox=\"0 0 24 24\"\n",
              "       width=\"24px\">\n",
              "    <path d=\"M7,19H8.4L18.45,9,17,7.55,7,17.6ZM5,21V16.75L18.45,3.32a2,2,0,0,1,2.83,0l1.4,1.43a1.91,1.91,0,0,1,.58,1.4,1.91,1.91,0,0,1-.58,1.4L9.25,21ZM18.45,9,17,7.55Zm-12,3A5.31,5.31,0,0,0,4.9,8.1,5.31,5.31,0,0,0,1,6.5,5.31,5.31,0,0,0,4.9,4.9,5.31,5.31,0,0,0,6.5,1,5.31,5.31,0,0,0,8.1,4.9,5.31,5.31,0,0,0,12,6.5,5.46,5.46,0,0,0,6.5,12Z\"/>\n",
              "  </svg>\n",
              "    </button>\n",
              "    <script>\n",
              "      (() => {\n",
              "      const buttonEl =\n",
              "        document.querySelector('#id_c8ed9960-68b9-4a63-9fd6-7149917d758b button.colab-df-generate');\n",
              "      buttonEl.style.display =\n",
              "        google.colab.kernel.accessAllowed ? 'block' : 'none';\n",
              "\n",
              "      buttonEl.onclick = () => {\n",
              "        google.colab.notebook.generateWithVariable('df');\n",
              "      }\n",
              "      })();\n",
              "    </script>\n",
              "  </div>\n",
              "\n",
              "    </div>\n",
              "  </div>\n"
            ],
            "text/plain": [
              "        AccountAge  TotalCharges  SubscriptionType  ContentType  \\\n",
              "0               20    221.104302                 1            3   \n",
              "1               57    294.986882                 3            2   \n",
              "2               73    883.785952                 3            2   \n",
              "3               32    232.439774                 3            1   \n",
              "4               57    966.325422                 1            1   \n",
              "...            ...           ...               ...          ...   \n",
              "243782          77    742.272460                 3            2   \n",
              "243783         117   1526.763053                 1            1   \n",
              "243784         113   1640.146267                 1            1   \n",
              "243785           7    126.983887                 1            1   \n",
              "243786          90   1043.439704                 1            3   \n",
              "\n",
              "        ViewingHoursPerWeek  AverageViewingDuration  ContentDownloadsPerMonth  \\\n",
              "0                 36.758104               63.531377                        10   \n",
              "1                 32.450568               25.725595                        18   \n",
              "2                  7.395160               57.364061                        23   \n",
              "3                 27.960389              131.537507                        30   \n",
              "4                 20.083397               45.356653                        20   \n",
              "...                     ...                     ...                       ...   \n",
              "243782            13.502729               80.367312                        47   \n",
              "243783            24.963291               59.818441                        35   \n",
              "243784            10.628728              176.186095                        44   \n",
              "243785            30.466782              153.386315                        36   \n",
              "243786            24.972537               84.824498                        11   \n",
              "\n",
              "        GenrePreference  UserRating  SupportTicketsPerMonth  Gender  \\\n",
              "0                     4    2.176498                       4       2   \n",
              "1                     1    3.478632                       8       2   \n",
              "2                     2    4.238824                       6       2   \n",
              "3                     3    4.276013                       2       2   \n",
              "4                     5    3.616170                       4       1   \n",
              "...                 ...         ...                     ...     ...   \n",
              "243782                4    3.697451                       1       2   \n",
              "243783                5    1.449742                       4       2   \n",
              "243784                1    4.012217                       6       2   \n",
              "243785                2    2.135789                       7       1   \n",
              "243786                1    1.428896                       3       1   \n",
              "\n",
              "        WatchlistSize  SubtitlesEnabled  Churn  \n",
              "0                   3                 1      0  \n",
              "1                  23                 0      0  \n",
              "2                   1                 0      0  \n",
              "3                  24                 0      0  \n",
              "4                   0                 1      0  \n",
              "...               ...               ...    ...  \n",
              "243782              8                 1      0  \n",
              "243783             20                 1      0  \n",
              "243784             13                 0      0  \n",
              "243785              5                 0      0  \n",
              "243786              1                 1      0  \n",
              "\n",
              "[243787 rows x 14 columns]"
            ]
          },
          "execution_count": 148,
          "metadata": {},
          "output_type": "execute_result"
        }
      ],
      "source": [
        "df"
      ]
    },
    {
      "cell_type": "code",
      "execution_count": null,
      "metadata": {
        "id": "92-3txg2QLd7"
      },
      "outputs": [],
      "source": []
    },
    {
      "cell_type": "markdown",
      "metadata": {
        "id": "QTi-JuT6QZeD"
      },
      "source": [
        "## split"
      ]
    },
    {
      "cell_type": "code",
      "execution_count": null,
      "metadata": {
        "id": "oiZDTVVzQbNZ"
      },
      "outputs": [],
      "source": [
        "from sklearn.model_selection import train_test_split"
      ]
    },
    {
      "cell_type": "code",
      "execution_count": null,
      "metadata": {
        "id": "fulE-cm4QiiF"
      },
      "outputs": [],
      "source": [
        "X = df.loc[:,df.columns[:-1]]\n",
        "y = df['Churn']\n",
        "\n",
        "X_train,X_test,y_train,y_test = train_test_split(X,y,test_size=0.25,random_state=7)"
      ]
    },
    {
      "cell_type": "code",
      "execution_count": null,
      "metadata": {
        "colab": {
          "base_uri": "https://localhost:8080/"
        },
        "id": "j0ECoppsQ7o2",
        "outputId": "6d5c7928-8c1a-4b97-de3b-82004b6fd35d"
      },
      "outputs": [
        {
          "data": {
            "text/plain": [
              "((182840, 13), (60947, 13))"
            ]
          },
          "execution_count": 153,
          "metadata": {},
          "output_type": "execute_result"
        }
      ],
      "source": [
        "X_train.shape,X_test.shape"
      ]
    },
    {
      "cell_type": "code",
      "execution_count": null,
      "metadata": {
        "colab": {
          "base_uri": "https://localhost:8080/"
        },
        "id": "5UbQ-rWNRFYx",
        "outputId": "2b769895-4e13-4409-e9ca-7f4a7345dffe"
      },
      "outputs": [
        {
          "data": {
            "text/plain": [
              "(0.1806224021001969, 0.1830606920767224)"
            ]
          },
          "execution_count": 154,
          "metadata": {},
          "output_type": "execute_result"
        }
      ],
      "source": [
        "y_train.mean(),y_test.mean()"
      ]
    },
    {
      "cell_type": "code",
      "execution_count": null,
      "metadata": {
        "id": "vjpdrY_5RPih"
      },
      "outputs": [],
      "source": []
    },
    {
      "cell_type": "markdown",
      "metadata": {
        "id": "gBlcScJiRUNj"
      },
      "source": [
        "## Scaling not mandatory"
      ]
    },
    {
      "cell_type": "markdown",
      "metadata": {
        "id": "a6oTJSkdRsdB"
      },
      "source": [
        "## without balancing - lets fit the model(F1 score"
      ]
    },
    {
      "cell_type": "code",
      "execution_count": null,
      "metadata": {
        "colab": {
          "base_uri": "https://localhost:8080/"
        },
        "id": "wfrDtdsuRYbU",
        "outputId": "c8bbf68e-63c8-4c9c-a255-b73f80e85188"
      },
      "outputs": [
        {
          "data": {
            "text/plain": [
              "(0.27683567186020486, 0.7243178499351896)"
            ]
          },
          "execution_count": 159,
          "metadata": {},
          "output_type": "execute_result"
        }
      ],
      "source": [
        "from sklearn.tree import DecisionTreeClassifier\n",
        "from sklearn.metrics import f1_score\n",
        "\n",
        "model = DecisionTreeClassifier()\n",
        "\n",
        "model.fit(X_train,y_train)\n",
        "\n",
        "f1_score(y_test,model.predict(X_test)),model.score(X_test,y_test)\n",
        "\n",
        "# 1 -> accuracy is a bad metric, gives good value even though f1 score is very bad\n",
        "# 2 -> without balancing, the ML models are struggling"
      ]
    },
    {
      "cell_type": "code",
      "execution_count": null,
      "metadata": {
        "id": "mz15gq4eSHTH"
      },
      "outputs": [],
      "source": []
    },
    {
      "cell_type": "markdown",
      "metadata": {
        "id": "FQDthdRkS1P3"
      },
      "source": [
        "## balance data - Cluster Centroid undersampling"
      ]
    },
    {
      "cell_type": "code",
      "execution_count": null,
      "metadata": {
        "colab": {
          "background_save": true,
          "base_uri": "https://localhost:8080/"
        },
        "id": "yRJiNg5RS7x2",
        "outputId": "ec74c4f5-1151-4e71-d3b2-0513fdc289c7"
      },
      "outputs": [
        {
          "name": "stderr",
          "output_type": "stream",
          "text": [
            "/usr/local/lib/python3.10/dist-packages/sklearn/cluster/_kmeans.py:870: FutureWarning: The default value of `n_init` will change from 10 to 'auto' in 1.4. Set the value of `n_init` explicitly to suppress the warning\n",
            "  warnings.warn(\n"
          ]
        }
      ],
      "source": [
        "from imblearn.under_sampling import ClusterCentroids\n",
        "\n",
        "\n",
        "cc = ClusterCentroids(random_state=7)\n",
        "\n",
        "X_train_cc, y_train_cc = cc.fit_resample(X_train, y_train)"
      ]
    },
    {
      "cell_type": "code",
      "execution_count": null,
      "metadata": {
        "id": "Akecke2bTZJb"
      },
      "outputs": [],
      "source": [
        "from sklearn.tree import DecisionTreeClassifier\n",
        "from sklearn.metrics import f1_score\n",
        "\n",
        "model = DecisionTreeClassifier()\n",
        "\n",
        "model.fit(X_train_cc,y_train_cc)\n",
        "\n",
        "f1_score(y_test,model.predict(X_test)),model.score(X_test,y_test)"
      ]
    },
    {
      "cell_type": "markdown",
      "metadata": {
        "id": "Mfqynv7MTlEF"
      },
      "source": [
        "## Balance Data - SMOTE"
      ]
    },
    {
      "cell_type": "code",
      "execution_count": null,
      "metadata": {
        "id": "Yik4wZvJTqgy"
      },
      "outputs": [],
      "source": [
        "#smot is oversampling"
      ]
    },
    {
      "cell_type": "code",
      "execution_count": null,
      "metadata": {
        "id": "7EPyyvbbTrdR"
      },
      "outputs": [],
      "source": [
        "from imblearn.over_sampling import SMOTE\n",
        "\n",
        "cc = SMOTE(random_state=7)\n",
        "\n",
        "X_train_smote, y_train_smote = cc.fit_resample(X_train, y_train)"
      ]
    },
    {
      "cell_type": "code",
      "execution_count": null,
      "metadata": {
        "id": "iWHA6sv8Trap"
      },
      "outputs": [],
      "source": [
        "from sklearn.tree import DecisionTreeClassifier\n",
        "from sklearn.metrics import f1_score\n",
        "\n",
        "model = DecisionTreeClassifier()\n",
        "model.fit(X_train_smote, y_train_smote)\n",
        "\n",
        "f1_score(y_test, model.predict(X_test)) #, model.score(X_test, y_test)"
      ]
    },
    {
      "cell_type": "code",
      "execution_count": null,
      "metadata": {
        "id": "_szHWwWdTrXy"
      },
      "outputs": [],
      "source": []
    },
    {
      "cell_type": "markdown",
      "metadata": {
        "id": "rirzSHexUpsu"
      },
      "source": [
        "## IMBLEARN - SMOTE + ENN (OverSampling + Undersampling)"
      ]
    },
    {
      "cell_type": "code",
      "execution_count": null,
      "metadata": {
        "id": "6_89PaLJTrVQ"
      },
      "outputs": [],
      "source": [
        "from imblearn.combine import SMOTEENN\n",
        "\n",
        "cc = SMOTEENN(random_state=7)\n",
        "\n",
        "X_train_smoteenn, y_train_smoteenn = cc.fit_resample(X_train, y_train)"
      ]
    },
    {
      "cell_type": "code",
      "execution_count": null,
      "metadata": {
        "id": "NG-4wNIvUzNM"
      },
      "outputs": [],
      "source": [
        "from sklearn.tree import DecisionTreeClassifier\n",
        "from sklearn.metrics import f1_score\n",
        "\n",
        "model = DecisionTreeClassifier()\n",
        "model.fit(X_train_smoteenn, y_train_smoteenn)\n",
        "\n",
        "f1_score(y_test, model.predict(X_test))"
      ]
    }
  ],
  "metadata": {
    "colab": {
      "toc_visible": true,
      "provenance": [],
      "authorship_tag": "ABX9TyMCafuksfKFUivGZFRX8wph",
      "include_colab_link": true
    },
    "kernelspec": {
      "display_name": "Python 3",
      "name": "python3"
    },
    "language_info": {
      "name": "python"
    }
  },
  "nbformat": 4,
  "nbformat_minor": 0
}